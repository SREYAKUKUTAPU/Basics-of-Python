{
  "nbformat": 4,
  "nbformat_minor": 0,
  "metadata": {
    "colab": {
      "provenance": [],
      "authorship_tag": "ABX9TyMloAqp2xVkJ+WjlCixlEdk",
      "include_colab_link": true
    },
    "kernelspec": {
      "name": "python3",
      "display_name": "Python 3"
    },
    "language_info": {
      "name": "python"
    }
  },
  "cells": [
    {
      "cell_type": "markdown",
      "metadata": {
        "id": "view-in-github",
        "colab_type": "text"
      },
      "source": [
        "<a href=\"https://colab.research.google.com/github/SREYAKUKUTAPU/Basics-of-Python/blob/main/controlFlowStatements.ipynb\" target=\"_parent\"><img src=\"https://colab.research.google.com/assets/colab-badge.svg\" alt=\"Open In Colab\"/></a>"
      ]
    },
    {
      "cell_type": "markdown",
      "source": [
        "# if"
      ],
      "metadata": {
        "id": "0WEvzgeccUdu"
      }
    },
    {
      "cell_type": "code",
      "execution_count": 1,
      "metadata": {
        "colab": {
          "base_uri": "https://localhost:8080/"
        },
        "id": "Y2ljiIuIaY6C",
        "outputId": "ebc42b6b-1452-40f0-de41-c764a79d0657"
      },
      "outputs": [
        {
          "output_type": "stream",
          "name": "stdout",
          "text": [
            "Enter your age: 23\n",
            "You are eligible to vote.\n"
          ]
        }
      ],
      "source": [
        "\n",
        "age = int(input(\"Enter your age: \"))\n",
        "\n",
        "if age >= 18:\n",
        "  print(\"You are eligible to vote.\")\n",
        "else:\n",
        "  print(\"You are not eligible to vote.\")"
      ]
    },
    {
      "cell_type": "markdown",
      "source": [
        "# nested if"
      ],
      "metadata": {
        "id": "23HP_OKFdFeH"
      }
    },
    {
      "cell_type": "code",
      "source": [
        "age = int(input(\"Enter your age: \"))\n",
        "\n",
        "if age >= 18:\n",
        "  print(\"You are eligible to vote.\")\n",
        "  if age >= 21:\n",
        "    print(\"You are also eligible to drink alcohol.\")\n",
        "  else:\n",
        "    print(\"You are not eligible to drink alcohol yet.\")\n",
        "else:\n",
        "  print(\"You are not eligible to vote.\")\n",
        "  print(\"You are not eligible to drink alcohol yet.\")"
      ],
      "metadata": {
        "colab": {
          "base_uri": "https://localhost:8080/"
        },
        "id": "TAYRszb_dFGB",
        "outputId": "2dd2c941-478f-47fe-f037-1bb57b4366a8"
      },
      "execution_count": 2,
      "outputs": [
        {
          "output_type": "stream",
          "name": "stdout",
          "text": [
            "Enter your age: 19\n",
            "You are eligible to vote.\n",
            "You are not eligible to drink alcohol yet.\n"
          ]
        }
      ]
    },
    {
      "cell_type": "markdown",
      "source": [
        "# if elif and else example"
      ],
      "metadata": {
        "id": "zzklqvezdjqF"
      }
    },
    {
      "cell_type": "code",
      "source": [
        "\n",
        "\n",
        "marks = int(input(\"Enter your marks: \"))\n",
        "\n",
        "if marks >= 90:\n",
        "  grade = \"A+\"\n",
        "elif marks >= 80:\n",
        "  grade = \"A\"\n",
        "elif marks >= 70:\n",
        "  grade = \"B\"\n",
        "elif marks >= 60:\n",
        "  grade = \"C\"\n",
        "elif marks >= 50:\n",
        "  grade = \"D\"\n",
        "else:\n",
        "  grade = \"F\"\n",
        "\n",
        "print(\"Your grade is:\", grade)"
      ],
      "metadata": {
        "colab": {
          "base_uri": "https://localhost:8080/"
        },
        "id": "n8mZNMcbdpRR",
        "outputId": "f30b686a-deff-4ce5-d11e-5bf80c9498df"
      },
      "execution_count": 3,
      "outputs": [
        {
          "output_type": "stream",
          "name": "stdout",
          "text": [
            "Enter your marks: 80\n",
            "Your grade is: A\n"
          ]
        }
      ]
    }
  ]
}