{
  "nbformat": 4,
  "nbformat_minor": 0,
  "metadata": {
    "colab": {
      "provenance": [],
      "authorship_tag": "ABX9TyMNBOQJvwydiENMNe+T2+Zo",
      "include_colab_link": true
    },
    "kernelspec": {
      "name": "python3",
      "display_name": "Python 3"
    },
    "language_info": {
      "name": "python"
    }
  },
  "cells": [
    {
      "cell_type": "markdown",
      "metadata": {
        "id": "view-in-github",
        "colab_type": "text"
      },
      "source": [
        "<a href=\"https://colab.research.google.com/github/SREYAKUKUTAPU/Basics-of-Python/blob/main/String.ipynb\" target=\"_parent\"><img src=\"https://colab.research.google.com/assets/colab-badge.svg\" alt=\"Open In Colab\"/></a>"
      ]
    },
    {
      "cell_type": "markdown",
      "source": [
        "# ord() and chr() functions\n",
        "- **`ord(char)`**: Returns the Unicode code point (integer representation) of the given character.  \n",
        "- **`char(code)`**: Returns the character corresponding to the given Unicode code point (integer)."
      ],
      "metadata": {
        "id": "8bx3XVZsQ6W3"
      }
    },
    {
      "cell_type": "code",
      "source": [
        "ord('A')"
      ],
      "metadata": {
        "colab": {
          "base_uri": "https://localhost:8080/"
        },
        "id": "DJBh7ETkREEj",
        "outputId": "9d77fe64-c1e6-443f-8c65-932f698f591a"
      },
      "execution_count": null,
      "outputs": [
        {
          "output_type": "execute_result",
          "data": {
            "text/plain": [
              "65"
            ]
          },
          "metadata": {},
          "execution_count": 4
        }
      ]
    },
    {
      "cell_type": "code",
      "source": [
        "ord('😂')"
      ],
      "metadata": {
        "colab": {
          "base_uri": "https://localhost:8080/"
        },
        "id": "ni5_LRhURchP",
        "outputId": "715bf1aa-bf75-435b-a33d-7c43241eb7a3"
      },
      "execution_count": null,
      "outputs": [
        {
          "output_type": "execute_result",
          "data": {
            "text/plain": [
              "128514"
            ]
          },
          "metadata": {},
          "execution_count": 3
        }
      ]
    },
    {
      "cell_type": "code",
      "source": [
        "chr(65)"
      ],
      "metadata": {
        "colab": {
          "base_uri": "https://localhost:8080/",
          "height": 35
        },
        "id": "rfO1FhqHRgkv",
        "outputId": "5a6e371f-e1a8-41fe-d067-c7c324aceaf8"
      },
      "execution_count": null,
      "outputs": [
        {
          "output_type": "execute_result",
          "data": {
            "text/plain": [
              "'A'"
            ],
            "application/vnd.google.colaboratory.intrinsic+json": {
              "type": "string"
            }
          },
          "metadata": {},
          "execution_count": 6
        }
      ]
    },
    {
      "cell_type": "code",
      "source": [
        "chr(128514)"
      ],
      "metadata": {
        "colab": {
          "base_uri": "https://localhost:8080/",
          "height": 35
        },
        "id": "2t_p_SJGRqZb",
        "outputId": "aba330f2-9e66-475b-9cc1-fd849f2282bd"
      },
      "execution_count": null,
      "outputs": [
        {
          "output_type": "execute_result",
          "data": {
            "text/plain": [
              "'😂'"
            ],
            "application/vnd.google.colaboratory.intrinsic+json": {
              "type": "string"
            }
          },
          "metadata": {},
          "execution_count": 7
        }
      ]
    },
    {
      "cell_type": "markdown",
      "source": [
        "# A string is a sequence of characters.\n",
        "The index for a string starts from 0.\n",
        "By default, start=0, end=len(string), and step=1."
      ],
      "metadata": {
        "id": "qP-PXOG1R7Fu"
      }
    },
    {
      "cell_type": "code",
      "source": [
        "name=\"Sreya\"\n",
        "print(name[0])\n",
        "print(name[-5])\n",
        "A=name[0:len(name):1]\n",
        "B=name[::]\n",
        "print(A==B)"
      ],
      "metadata": {
        "colab": {
          "base_uri": "https://localhost:8080/"
        },
        "id": "T3uLxPOiSqRu",
        "outputId": "d94e9c5a-4ac1-4931-ce02-952635e32839"
      },
      "execution_count": null,
      "outputs": [
        {
          "output_type": "stream",
          "name": "stdout",
          "text": [
            "S\n",
            "S\n",
            "True\n"
          ]
        }
      ]
    },
    {
      "cell_type": "markdown",
      "source": [
        "# Slicing: x[start,stop,step]"
      ],
      "metadata": {
        "id": "gSGAWMFaS5tR"
      }
    },
    {
      "cell_type": "code",
      "source": [
        "name='Sreya Kukutapu'\n",
        "print(name[0:5])\n",
        "print(name[:5:2])\n",
        "print(name[::])\n",
        "print(name[:-(len(name)+1):-1]) #reverse\n",
        "print(name[::-1]) #reverse"
      ],
      "metadata": {
        "colab": {
          "base_uri": "https://localhost:8080/"
        },
        "id": "K9979q4PTIxp",
        "outputId": "c66f06bf-3c08-4f4f-845b-83070ea3bb6d"
      },
      "execution_count": 57,
      "outputs": [
        {
          "output_type": "stream",
          "name": "stdout",
          "text": [
            "Sreya\n",
            "Sea\n",
            "Sreya Kukutapu\n",
            "upatukuK ayerS\n",
            "upatukuK ayerS\n"
          ]
        }
      ]
    },
    {
      "cell_type": "markdown",
      "source": [
        "# String Methods"
      ],
      "metadata": {
        "id": "sAUGxAGbIKNf"
      }
    },
    {
      "cell_type": "code",
      "source": [
        "#capitalize()\n",
        "name=\"sreya kukutapu\"\n",
        "print(name.capitalize())"
      ],
      "metadata": {
        "colab": {
          "base_uri": "https://localhost:8080/"
        },
        "id": "ZmJU3a3yINo6",
        "outputId": "185fe17a-c99e-4c1b-ef82-1449189fb28c"
      },
      "execution_count": 6,
      "outputs": [
        {
          "output_type": "stream",
          "name": "stdout",
          "text": [
            "Sreya kukutapu\n"
          ]
        }
      ]
    },
    {
      "cell_type": "code",
      "source": [
        "#title()\n",
        "name=\"sreya kukutapu\"\n",
        "print(name.title())"
      ],
      "metadata": {
        "colab": {
          "base_uri": "https://localhost:8080/"
        },
        "id": "zw2fo6N8IWRJ",
        "outputId": "2bb2dd8a-d89b-4dad-bf47-a10c141733d6"
      },
      "execution_count": 5,
      "outputs": [
        {
          "output_type": "stream",
          "name": "stdout",
          "text": [
            "Sreya Kukutapu\n"
          ]
        }
      ]
    },
    {
      "cell_type": "code",
      "source": [
        "#upper()\n",
        "name=\"sreya kukutapu\"\n",
        "print(name.upper())"
      ],
      "metadata": {
        "colab": {
          "base_uri": "https://localhost:8080/"
        },
        "id": "QBZHLd0YImx9",
        "outputId": "07ecfb76-bbaf-4e70-b93f-cc129927417f"
      },
      "execution_count": 7,
      "outputs": [
        {
          "output_type": "stream",
          "name": "stdout",
          "text": [
            "SREYA KUKUTAPU\n"
          ]
        }
      ]
    },
    {
      "cell_type": "code",
      "source": [
        "#lower()\n",
        "name=\"SREYA KUKUTAPU\"\n",
        "print(name.lower())"
      ],
      "metadata": {
        "colab": {
          "base_uri": "https://localhost:8080/"
        },
        "id": "d1iNHhSJIsL7",
        "outputId": "80db64d4-bd8b-4b19-cc09-e62037a57911"
      },
      "execution_count": 8,
      "outputs": [
        {
          "output_type": "stream",
          "name": "stdout",
          "text": [
            "sreya kukutapu\n"
          ]
        }
      ]
    },
    {
      "cell_type": "code",
      "source": [
        "#find()\n",
        "name=\"Sreya Kukutapu\"\n",
        "print(name.find('a')) # by default it returns the index of first occurance\n",
        "print(name.find('a',6,len(name))) # we can also provide the start and end\n",
        "print(name.find('eya'))\n",
        "print(name.find(\" \"))"
      ],
      "metadata": {
        "colab": {
          "base_uri": "https://localhost:8080/"
        },
        "id": "cZkam_dwIw-K",
        "outputId": "e771b57c-5137-46c2-94fc-d140fa34b874"
      },
      "execution_count": 13,
      "outputs": [
        {
          "output_type": "stream",
          "name": "stdout",
          "text": [
            "4\n",
            "11\n",
            "2\n",
            "5\n"
          ]
        }
      ]
    },
    {
      "cell_type": "code",
      "source": [
        "#count()\n",
        "name=\"Sreya Kukutapu\"\n",
        "print(name.count('a')) # full string\n",
        "print(name.count('a',6,len(name)))"
      ],
      "metadata": {
        "colab": {
          "base_uri": "https://localhost:8080/"
        },
        "id": "vvPCHW11JFuy",
        "outputId": "46d2bcab-09db-4b23-f124-b289d7febc6d"
      },
      "execution_count": 14,
      "outputs": [
        {
          "output_type": "stream",
          "name": "stdout",
          "text": [
            "2\n",
            "1\n"
          ]
        }
      ]
    },
    {
      "cell_type": "code",
      "source": [
        "#index()\n",
        "name=\"Sreya Kukutapu\"\n",
        "print(name.index('a'))\n",
        "print(name.index('a',6))"
      ],
      "metadata": {
        "colab": {
          "base_uri": "https://localhost:8080/"
        },
        "id": "F2HhdHFHKIqI",
        "outputId": "e21eb95c-ce56-4e6f-d06a-63aaaa7642ea"
      },
      "execution_count": 16,
      "outputs": [
        {
          "output_type": "stream",
          "name": "stdout",
          "text": [
            "4\n",
            "11\n"
          ]
        }
      ]
    },
    {
      "cell_type": "code",
      "source": [
        "#replace()\n",
        "name=\"Sreya Kukutapu\"\n",
        "print(name.replace('a','A')) # by default it replaces all the occurances of a given character\n",
        "print(name.replace('a','A',1)) # replace only first occurance"
      ],
      "metadata": {
        "colab": {
          "base_uri": "https://localhost:8080/"
        },
        "id": "3Y6r6LcwKeRP",
        "outputId": "8aa62199-e299-45c7-bc90-bfa0432301c5"
      },
      "execution_count": 17,
      "outputs": [
        {
          "output_type": "stream",
          "name": "stdout",
          "text": [
            "SreyA KukutApu\n",
            "SreyA Kukutapu\n"
          ]
        }
      ]
    },
    {
      "cell_type": "code",
      "source": [
        "#split()\n",
        "name=\"Sreya Kukutapu\"\n",
        "print(name.split())\n",
        "print(name.split('a'))\n",
        "\n",
        "name=\"Sreya,Kukutapu, \"\n",
        "print(name.split(','))"
      ],
      "metadata": {
        "colab": {
          "base_uri": "https://localhost:8080/"
        },
        "id": "FuTfhAR6K5nC",
        "outputId": "c4f449a6-36c0-4bc5-fb92-b341b36123a1"
      },
      "execution_count": 20,
      "outputs": [
        {
          "output_type": "stream",
          "name": "stdout",
          "text": [
            "['Sreya', 'Kukutapu']\n",
            "['Srey', ' Kukut', 'pu']\n",
            "['Sreya', 'Kukutapu', ' ']\n"
          ]
        }
      ]
    },
    {
      "cell_type": "code",
      "source": [
        "#islower()\n",
        "name=\"sreya kukutapu\"\n",
        "print(name.islower())\n",
        "\n",
        "name=\"Sreya Kukutapu\"\n",
        "print(name.islower())"
      ],
      "metadata": {
        "colab": {
          "base_uri": "https://localhost:8080/"
        },
        "id": "Bo60C80qPF-8",
        "outputId": "577425cb-0161-4504-f8cc-4eedf252d334"
      },
      "execution_count": 22,
      "outputs": [
        {
          "output_type": "stream",
          "name": "stdout",
          "text": [
            "True\n",
            "False\n"
          ]
        }
      ]
    },
    {
      "cell_type": "code",
      "source": [
        "#isupper()\n",
        "name=\"Sreya Kukutapu\"\n",
        "print(name.isupper())\n",
        "\n",
        "name=\"SREYA KUKUTAPU\"\n",
        "print(name.isupper())\n"
      ],
      "metadata": {
        "colab": {
          "base_uri": "https://localhost:8080/"
        },
        "id": "EdCEJmvtPMwC",
        "outputId": "3eae1116-2f58-42ad-ddaf-b2db3d100d74"
      },
      "execution_count": 25,
      "outputs": [
        {
          "output_type": "stream",
          "name": "stdout",
          "text": [
            "False\n",
            "True\n"
          ]
        }
      ]
    },
    {
      "cell_type": "code",
      "source": [
        "#isnumeric()\n",
        "name=\"Sreya 2002\"\n",
        "print(name.isnumeric())\n",
        "\n",
        "name=\"12345\"\n",
        "print(name.isnumeric())"
      ],
      "metadata": {
        "colab": {
          "base_uri": "https://localhost:8080/"
        },
        "id": "Tcv1QdAkPZtl",
        "outputId": "3c9b26b9-f782-4940-c50c-f28c2672e8ef"
      },
      "execution_count": 28,
      "outputs": [
        {
          "output_type": "stream",
          "name": "stdout",
          "text": [
            "False\n",
            "True\n"
          ]
        }
      ]
    },
    {
      "cell_type": "code",
      "source": [
        "#isalpha()\n",
        "name=\"Sreya\"\n",
        "print(name.isalpha())\n",
        "\n",
        "name=\"Sreya 434\"\n",
        "print(name.isalpha())"
      ],
      "metadata": {
        "colab": {
          "base_uri": "https://localhost:8080/"
        },
        "id": "kG57CrjtPldU",
        "outputId": "c600becd-b1fa-4247-ba34-27af3127c753"
      },
      "execution_count": 34,
      "outputs": [
        {
          "output_type": "stream",
          "name": "stdout",
          "text": [
            "True\n",
            "False\n"
          ]
        }
      ]
    },
    {
      "cell_type": "code",
      "source": [
        "#isalphanumeric()\n",
        "name=\"Sreya\"\n",
        "print(name.isalnum())\n",
        "\n",
        "name=\"Sreya 434\"\n",
        "print(name.isalnum())\n",
        "\n",
        "name=\"Sreya434\"\n",
        "print(name.isalnum())"
      ],
      "metadata": {
        "colab": {
          "base_uri": "https://localhost:8080/"
        },
        "id": "FzzCm-TtQLpX",
        "outputId": "345d1bc7-4ede-47ba-ae20-60a5b9d83057"
      },
      "execution_count": 39,
      "outputs": [
        {
          "output_type": "stream",
          "name": "stdout",
          "text": [
            "True\n",
            "False\n",
            "True\n"
          ]
        }
      ]
    },
    {
      "cell_type": "markdown",
      "source": [
        "# String Formatting"
      ],
      "metadata": {
        "id": "PirxkOGESSdo"
      }
    },
    {
      "cell_type": "code",
      "source": [
        "name=input(\"Enter your name: \")\n",
        "age=int(input(\"Enter your age: \"))\n",
        "print(\"Hello my name is\",name,\"and my age is\",age)\n"
      ],
      "metadata": {
        "colab": {
          "base_uri": "https://localhost:8080/"
        },
        "id": "iQX_87SBSRml",
        "outputId": "0c8bd6f9-99ef-4da0-c3cd-6715abe5d8a5"
      },
      "execution_count": 45,
      "outputs": [
        {
          "output_type": "stream",
          "name": "stdout",
          "text": [
            "Enter your name: Sreya\n",
            "Enter your age: 23\n",
            "Hello my name is Sreya and my age is 23\n"
          ]
        }
      ]
    },
    {
      "cell_type": "code",
      "source": [
        "#format()\n",
        "name=input(\"Enter your name: \")\n",
        "age=int(input(\"Enter your age: \"))\n",
        "print(\"Hello my name is {} and my age is {}\".format(name,age))"
      ],
      "metadata": {
        "colab": {
          "base_uri": "https://localhost:8080/"
        },
        "id": "oswMTtQ8SucM",
        "outputId": "529a7645-9edc-40dd-84c7-266eb8db654a"
      },
      "execution_count": 49,
      "outputs": [
        {
          "output_type": "stream",
          "name": "stdout",
          "text": [
            "Enter your name: Sreya\n",
            "Enter your age: 23\n",
            "Hello my name is Sreya and my age is 23\n"
          ]
        }
      ]
    },
    {
      "cell_type": "code",
      "source": [
        "#fstrings\n",
        "name=input(\"Enter your name: \")\n",
        "age=int(input(\"Enter your age: \"))\n",
        "print(f\"Hello my name is {name} and my age is {age}\")"
      ],
      "metadata": {
        "colab": {
          "base_uri": "https://localhost:8080/"
        },
        "id": "9QLlnktKThgt",
        "outputId": "3ca8996d-db94-48b8-bdd9-b81c8d199e3b"
      },
      "execution_count": 50,
      "outputs": [
        {
          "output_type": "stream",
          "name": "stdout",
          "text": [
            "Enter your name: Sreya\n",
            "Enter your age: 23\n",
            "Hello my name is Sreya and my age is 23\n"
          ]
        }
      ]
    },
    {
      "cell_type": "markdown",
      "source": [
        "# String Concatenation"
      ],
      "metadata": {
        "id": "Uvvv-J-RUIpV"
      }
    },
    {
      "cell_type": "code",
      "source": [
        "first=input(\"Enter your first name: \")\n",
        "last=input(\"Enter your last name: \")\n",
        "print(first+\" \"+last)\n"
      ],
      "metadata": {
        "colab": {
          "base_uri": "https://localhost:8080/"
        },
        "id": "93yeAlgeUmzK",
        "outputId": "ab97432b-24a1-456b-b189-3de6b3f3d657"
      },
      "execution_count": 52,
      "outputs": [
        {
          "output_type": "stream",
          "name": "stdout",
          "text": [
            "Enter your first name: Sreya\n",
            "Enter your last name: Kukutapu\n",
            "Sreya Kukutapu\n"
          ]
        }
      ]
    },
    {
      "cell_type": "code",
      "source": [
        "\"Sreya\"*3"
      ],
      "metadata": {
        "colab": {
          "base_uri": "https://localhost:8080/",
          "height": 35
        },
        "id": "XxwCXxndVV_M",
        "outputId": "7df80a04-20bd-46e8-c8f1-c8c209999f0d"
      },
      "execution_count": 54,
      "outputs": [
        {
          "output_type": "execute_result",
          "data": {
            "text/plain": [
              "'SreyaSreyaSreya'"
            ],
            "application/vnd.google.colaboratory.intrinsic+json": {
              "type": "string"
            }
          },
          "metadata": {},
          "execution_count": 54
        }
      ]
    },
    {
      "cell_type": "code",
      "source": [
        "\"2\"+\"2a\""
      ],
      "metadata": {
        "colab": {
          "base_uri": "https://localhost:8080/",
          "height": 35
        },
        "id": "gPngZc35VcJ0",
        "outputId": "14bcba21-e6df-44d3-d13c-8be258e32f8b"
      },
      "execution_count": 55,
      "outputs": [
        {
          "output_type": "execute_result",
          "data": {
            "text/plain": [
              "'22a'"
            ],
            "application/vnd.google.colaboratory.intrinsic+json": {
              "type": "string"
            }
          },
          "metadata": {},
          "execution_count": 55
        }
      ]
    }
  ]
}