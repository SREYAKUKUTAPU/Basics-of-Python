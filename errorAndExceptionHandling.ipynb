{
  "nbformat": 4,
  "nbformat_minor": 0,
  "metadata": {
    "colab": {
      "provenance": [],
      "authorship_tag": "ABX9TyN88EfvIDai646k7vPq0nnQ",
      "include_colab_link": true
    },
    "kernelspec": {
      "name": "python3",
      "display_name": "Python 3"
    },
    "language_info": {
      "name": "python"
    }
  },
  "cells": [
    {
      "cell_type": "markdown",
      "metadata": {
        "id": "view-in-github",
        "colab_type": "text"
      },
      "source": [
        "<a href=\"https://colab.research.google.com/github/SREYAKUKUTAPU/Basics-of-Python/blob/main/errorAndExceptionHandling.ipynb\" target=\"_parent\"><img src=\"https://colab.research.google.com/assets/colab-badge.svg\" alt=\"Open In Colab\"/></a>"
      ]
    },
    {
      "cell_type": "markdown",
      "source": [
        "Errors: When we write a faulty code (wrong syntax) the execution of program may stop due to the errors.\n",
        "\n",
        "Examples: Syntax error, NameError, TypeError, File not found error, Indentation Error and ZeroDivisionError  \n",
        "\n",
        "Exceptions: They are logic based, where in syntax is righy but logic isn't.\n",
        "Ex: Zero Division"
      ],
      "metadata": {
        "id": "ecbeAKD5efn4"
      }
    },
    {
      "cell_type": "code",
      "execution_count": 23,
      "metadata": {
        "id": "mPSBnsWkeRRa"
      },
      "outputs": [],
      "source": [
        "#errors\n",
        "#print(hello) #NameError: name 'hello' is not defined\n",
        "#print(2+\"2\") #TypeError: unsupported operand type(s) for +: 'int' and 'str'\n",
        "#if True:     SyntaxError: incomplete input\n",
        "\n",
        "#def Hello():\n",
        "#print(\"Hello\") #IndentationError: expected an indented block after function definition on line x\n",
        "\n",
        "\n",
        "#5/0 ZeroDivisionError: division by zero"
      ]
    },
    {
      "cell_type": "code",
      "source": [
        "#builtin\n",
        "print(dir(__builtins__))"
      ],
      "metadata": {
        "colab": {
          "base_uri": "https://localhost:8080/"
        },
        "id": "nJeRu8YvgzsU",
        "outputId": "fe2563fc-4bd4-4720-c7fe-0e963be67031"
      },
      "execution_count": 9,
      "outputs": [
        {
          "output_type": "stream",
          "name": "stdout",
          "text": [
            "['ArithmeticError', 'AssertionError', 'AttributeError', 'BaseException', 'BlockingIOError', 'BrokenPipeError', 'BufferError', 'BytesWarning', 'ChildProcessError', 'ConnectionAbortedError', 'ConnectionError', 'ConnectionRefusedError', 'ConnectionResetError', 'DeprecationWarning', 'EOFError', 'Ellipsis', 'EncodingWarning', 'EnvironmentError', 'Exception', 'False', 'FileExistsError', 'FileNotFoundError', 'FloatingPointError', 'FutureWarning', 'GeneratorExit', 'IOError', 'ImportError', 'ImportWarning', 'IndentationError', 'IndexError', 'InterruptedError', 'IsADirectoryError', 'KeyError', 'KeyboardInterrupt', 'LookupError', 'MemoryError', 'ModuleNotFoundError', 'NameError', 'None', 'NotADirectoryError', 'NotImplemented', 'NotImplementedError', 'OSError', 'OverflowError', 'PendingDeprecationWarning', 'PermissionError', 'ProcessLookupError', 'RecursionError', 'ReferenceError', 'ResourceWarning', 'RuntimeError', 'RuntimeWarning', 'StopAsyncIteration', 'StopIteration', 'SyntaxError', 'SyntaxWarning', 'SystemError', 'SystemExit', 'TabError', 'TimeoutError', 'True', 'TypeError', 'UnboundLocalError', 'UnicodeDecodeError', 'UnicodeEncodeError', 'UnicodeError', 'UnicodeTranslateError', 'UnicodeWarning', 'UserWarning', 'ValueError', 'Warning', 'ZeroDivisionError', '__IPYTHON__', '__build_class__', '__debug__', '__doc__', '__import__', '__loader__', '__name__', '__package__', '__pybind11_internals_v4_gcc_libstdcpp_cxxabi1014__', '__spec__', 'abs', 'aiter', 'all', 'anext', 'any', 'ascii', 'bin', 'bool', 'breakpoint', 'bytearray', 'bytes', 'callable', 'chr', 'classmethod', 'compile', 'complex', 'copyright', 'credits', 'delattr', 'dict', 'dir', 'display', 'divmod', 'enumerate', 'eval', 'exec', 'execfile', 'filter', 'float', 'format', 'frozenset', 'get_ipython', 'getattr', 'globals', 'hasattr', 'hash', 'help', 'hex', 'id', 'input', 'int', 'isinstance', 'issubclass', 'iter', 'len', 'license', 'list', 'locals', 'map', 'max', 'memoryview', 'min', 'next', 'object', 'oct', 'open', 'ord', 'pow', 'print', 'property', 'range', 'repr', 'reversed', 'round', 'runfile', 'set', 'setattr', 'slice', 'sorted', 'staticmethod', 'str', 'sum', 'super', 'tuple', 'type', 'vars', 'zip']\n"
          ]
        }
      ]
    },
    {
      "cell_type": "markdown",
      "source": [
        "#Try and Except\n",
        "\n",
        "try:This block handles the error in your code if any of it exists.\n",
        "\n",
        "except: This block gives the output that you want to show if your code is faulty\n"
      ],
      "metadata": {
        "id": "CttkRrNLhDxt"
      }
    },
    {
      "cell_type": "code",
      "source": [
        "a=5\n",
        "b=0\n",
        "#print(a/b) #ZeroDivisionError: division by zero. Stops the execution the program doesn't execute the next line\n",
        "#print(\"Hello\")"
      ],
      "metadata": {
        "id": "eXu02sO9hZ_F"
      },
      "execution_count": 16,
      "outputs": []
    },
    {
      "cell_type": "code",
      "source": [
        "#put the suspect in try block\n",
        "\n",
        "try:\n",
        "  print(a/b) #if it throws an error\n",
        "except ZeroDivisionError: #catches the error\n",
        "  print(\"Can't divide by zero\")  #prints the line\n",
        "print(\"Hello\")# next line is executed"
      ],
      "metadata": {
        "colab": {
          "base_uri": "https://localhost:8080/"
        },
        "id": "-Clo35mSh9bV",
        "outputId": "105b1b78-92e4-42c7-9738-04472558966c"
      },
      "execution_count": 11,
      "outputs": [
        {
          "output_type": "stream",
          "name": "stdout",
          "text": [
            "Can't divide by zero\n",
            "Hello\n"
          ]
        }
      ]
    },
    {
      "cell_type": "code",
      "source": [
        "try:\n",
        "  print(a/b)\n",
        "except:    #by default, it catches all the errors\n",
        "  print(\"Something went wrong\")"
      ],
      "metadata": {
        "colab": {
          "base_uri": "https://localhost:8080/"
        },
        "id": "gux-yf4aid5u",
        "outputId": "46f3a434-dc38-481c-b4d8-834055f15bab"
      },
      "execution_count": 15,
      "outputs": [
        {
          "output_type": "stream",
          "name": "stdout",
          "text": [
            "Something went wrong\n"
          ]
        }
      ]
    },
    {
      "cell_type": "code",
      "source": [
        "# to know the type of exception\n",
        "try:\n",
        "  print(a/b)\n",
        "except Exception as e:\n",
        "  print(\"Error:\",e)\n",
        "\n",
        "try:\n",
        "  print(1+\"1\")\n",
        "except Exception as e:\n",
        "  print(\"Error:\",e)\n"
      ],
      "metadata": {
        "colab": {
          "base_uri": "https://localhost:8080/"
        },
        "id": "Ltvyo2wri5b8",
        "outputId": "c5a2a96c-b929-49ba-ebf6-11617b4afb35"
      },
      "execution_count": 14,
      "outputs": [
        {
          "output_type": "stream",
          "name": "stdout",
          "text": [
            "Error: division by zero\n",
            "Error: unsupported operand type(s) for +: 'int' and 'str'\n"
          ]
        }
      ]
    },
    {
      "cell_type": "markdown",
      "source": [
        "#Finally\n",
        "\n",
        "-> This block will be executed in any case\n",
        "\n",
        "-> It is helpful when you want to de-allocate resources. Eg: Closing a file or db connection"
      ],
      "metadata": {
        "id": "P3UujkRVjeav"
      }
    },
    {
      "cell_type": "code",
      "source": [
        "a=5\n",
        "b=0\n",
        "\n",
        "try:\n",
        "  print(\"open a file\")\n",
        "  print(a/b)  #throws an error next line is not executed, i.e., file is not closed (resources are not delocated)\n",
        "  print(\"close a file\")\n",
        "except Exception as e:\n",
        "  print(\"Error:\",e)\n",
        "finally:\n",
        "  print(\"Finally block: close file\") # this block is executed in any case\n",
        "\n"
      ],
      "metadata": {
        "colab": {
          "base_uri": "https://localhost:8080/"
        },
        "id": "NIFmzJ4gjxGZ",
        "outputId": "e38e924f-2e76-4ed9-9b3c-5fabfac4a717"
      },
      "execution_count": 18,
      "outputs": [
        {
          "output_type": "stream",
          "name": "stdout",
          "text": [
            "open a file\n",
            "Error: division by zero\n",
            "Finally block: close file\n"
          ]
        }
      ]
    },
    {
      "cell_type": "code",
      "source": [
        "a=5\n",
        "b=2\n",
        "try:\n",
        "  print(\"open a file\")\n",
        "  print(\"division result:\",a/b)  #doesn't throws an error\n",
        "\n",
        "except Exception as e:    #this block is not executed. So, close file is not executed\n",
        "  print(\"Error:\",e)\n",
        "  print(\"close file\")\n",
        "finally:\n",
        "  print(\"Finally block: close file\") # this block is executed in any case"
      ],
      "metadata": {
        "colab": {
          "base_uri": "https://localhost:8080/"
        },
        "id": "2w1XKUoyk23E",
        "outputId": "fce54b4c-a64a-4036-a87e-ca7031656d8f"
      },
      "execution_count": 22,
      "outputs": [
        {
          "output_type": "stream",
          "name": "stdout",
          "text": [
            "open a file\n",
            "division result: 2.5\n",
            "Finally block: close file\n"
          ]
        }
      ]
    }
  ]
}