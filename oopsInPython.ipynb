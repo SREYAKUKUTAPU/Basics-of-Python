{
  "nbformat": 4,
  "nbformat_minor": 0,
  "metadata": {
    "colab": {
      "provenance": [],
      "authorship_tag": "ABX9TyPYqSXj6wTXl8GCrIQzjdC5",
      "include_colab_link": true
    },
    "kernelspec": {
      "name": "python3",
      "display_name": "Python 3"
    },
    "language_info": {
      "name": "python"
    }
  },
  "cells": [
    {
      "cell_type": "markdown",
      "metadata": {
        "id": "view-in-github",
        "colab_type": "text"
      },
      "source": [
        "<a href=\"https://colab.research.google.com/github/SREYAKUKUTAPU/Basics-of-Python/blob/main/oopsInPython.ipynb\" target=\"_parent\"><img src=\"https://colab.research.google.com/assets/colab-badge.svg\" alt=\"Open In Colab\"/></a>"
      ]
    },
    {
      "cell_type": "markdown",
      "source": [
        "# OOP (Object-Oriented Programming)\n",
        "is a programming paradigm based on the concept of \"objects\", which contain data and code.\n",
        "\n",
        "Class: A blueprint for creating objects.\n",
        "It has attributes and behaviour\n",
        "\n",
        "Object: An instance of a class, a real-world entity.\n",
        "\n",
        "Abstraction: Hiding complexity, showing only essentials.\n",
        "\n",
        "Encapsulation: Bundling data and methods, protecting data.\n",
        "\n",
        "Polymorphism: Different objects responding to the same method in their own way.\n",
        "\n",
        "Inheritance: A new class inheriting properties from an existing class.\n",
        "\n",
        "S - Single Responsibility Principle\n",
        "\n",
        "O - Open/Closed Principle\n",
        "\n",
        "L - Liskov Substitution Principle\n",
        "\n",
        "I - Interface Segregation Principle\n",
        "\n",
        "D - Dependency Inversion Principle"
      ],
      "metadata": {
        "id": "ACwRqZBLcmYx"
      }
    },
    {
      "cell_type": "code",
      "execution_count": 1,
      "metadata": {
        "colab": {
          "base_uri": "https://localhost:8080/"
        },
        "id": "QQF5EI5CZ9cU",
        "outputId": "33c6ddf9-640c-4edb-b0ba-7518e402ec80"
      },
      "outputs": [
        {
          "output_type": "stream",
          "name": "stdout",
          "text": [
            "<class '__main__.Car'>\n"
          ]
        }
      ],
      "source": [
        "#Creating a class\n",
        "class Car:\n",
        "  pass\n",
        "\n",
        "#creating an object\n",
        "Kia=Car()\n",
        "print(type(Kia))"
      ]
    },
    {
      "cell_type": "markdown",
      "source": [
        "#Constructor\n",
        "Initializes Objects: Sets the initial state of an object's data when created. Like setting up a new car with its basic features.\n",
        "\n",
        "Automatic Call: Called automatically when an object is instantiated, no explicit call needed. Like a car engine starting automatically on ignition.\n",
        "\n",
        "__init__ method: It's a special method named __init__ that acts as the constructor in Python classes.\n",
        "\n",
        "self parameter: The first parameter of __init__ is self, which refers to the instance of the class being created.\n",
        "\n",
        "Initialization: Inside __init__, you initialize the object's attributes using self.attribute_name = value."
      ],
      "metadata": {
        "id": "_Y_qVUcKfstr"
      }
    },
    {
      "cell_type": "code",
      "source": [
        "class Car:\n",
        "  # if you want some properties to be with every Human objects\n",
        "  #Dunder __\n",
        "  def __init__(self):\n",
        "    print(\"This will always run when you create an object\")\n",
        "\n",
        "kia=Car()"
      ],
      "metadata": {
        "colab": {
          "base_uri": "https://localhost:8080/"
        },
        "id": "xPb0aKThfzR6",
        "outputId": "b7a44350-11f8-4cef-ef6a-2723cb45d97b"
      },
      "execution_count": 2,
      "outputs": [
        {
          "output_type": "stream",
          "name": "stdout",
          "text": [
            "This will always run when you create an object\n"
          ]
        }
      ]
    },
    {
      "cell_type": "code",
      "source": [
        "#instance variables\n",
        "class Human:\n",
        "  # if you want some properties to be with every Human objects\n",
        "  #Dunder __\n",
        "  def __init__(self,name,age,gender):\n",
        "    #These are known as attributes of an object\n",
        "    self.name=name #instance variables are unique for each object\n",
        "    self.age=age\n",
        "    self.gender=gender\n",
        "    print(f\"hello {self.name}\")\n",
        "\n",
        "human1=Human(\"Sreya\",23,\"Female\")\n",
        "print(human1.name)\n",
        "print(human1.age)\n",
        "print(human1.gender)\n",
        "\n",
        "human2=Human(\"Ahmed\",21,\"Male\")\n",
        "print(human2.name)\n",
        "print(human2.age)\n",
        "print(human2.gender)\n"
      ],
      "metadata": {
        "colab": {
          "base_uri": "https://localhost:8080/"
        },
        "id": "3MmoOGuOnUBv",
        "outputId": "ea67bd2c-825a-4952-ebf1-a4c40fb389cc"
      },
      "execution_count": 6,
      "outputs": [
        {
          "output_type": "stream",
          "name": "stdout",
          "text": [
            "hello Sreya\n",
            "Sreya\n",
            "23\n",
            "Female\n",
            "hello Ahmed\n",
            "Ahmed\n",
            "21\n",
            "Male\n"
          ]
        }
      ]
    },
    {
      "cell_type": "code",
      "source": [
        "#Methods\n",
        "class Human:\n",
        "  # if you want some properties to be with every Human objects\n",
        "  #Dunder __\n",
        "  def __init__(self,name,age,gender):\n",
        "    #These are known as attributes of an object\n",
        "    self.name=name\n",
        "    self.age=age\n",
        "    self.gender=gender\n",
        "    print(f\"hello {self.name}\")\n",
        "\n",
        "  #defining a method\n",
        "  def walk(self):\n",
        "    print(f\"{self.name} is walking\")\n",
        "\n",
        "human1=Human(\"Sreya\",23,\"Female\") #initialize an object\n",
        "human1.walk() # invoke the method\n",
        "\n",
        "human1.nationality='Indian' #adding a new property\n",
        "print(human1.nationality)\n",
        "\n",
        "human2=Human(\"Ahmed\",21,\"Male\")\n",
        "#print(human2.nationality) # throws an error: AttributeError: 'Human' object has no attribute 'nationality'\n",
        "\n",
        "\n",
        "human1.age=22 #updating property\n",
        "print(human1.age)"
      ],
      "metadata": {
        "colab": {
          "base_uri": "https://localhost:8080/"
        },
        "id": "F7-OWqaNzi_F",
        "outputId": "7f3352f7-9b66-41b6-e253-73f7072b6764"
      },
      "execution_count": 13,
      "outputs": [
        {
          "output_type": "stream",
          "name": "stdout",
          "text": [
            "hello Sreya\n",
            "Sreya is walking\n",
            "Indian\n",
            "hello Ahmed\n",
            "22\n"
          ]
        }
      ]
    },
    {
      "cell_type": "code",
      "source": [
        "# Class varaibles : common for all the objects\n",
        "\n",
        "class Human:\n",
        "\n",
        "  population=0\n",
        "  # if you want some properties to be with every Human objects\n",
        "  #Dunder __\n",
        "  def __init__(self,name,age,gender):\n",
        "    #These are known as attributes of an object\n",
        "    self.name=name\n",
        "    self.age=age\n",
        "    self.gender=gender\n",
        "    Human.population+=1 # if you want to update class variable use Human.population+=1,\n",
        "    #if you  want increment at instance level use self.population+=1\n",
        "    #if you indicate population+=1 it throws an error-UnboundLocalError: local variable 'population' referenced before assignment\n",
        "    print(f\"hello {self.name}\")\n",
        "\n",
        "  #defining a method\n",
        "  def walk(self):\n",
        "    print(f\"{self.name} is walking\")\n",
        "\n",
        "human1=Human(\"Sreya\",23,\"Female\") #initialize an object\n",
        "print(human1.population)\n",
        "print(Human.population)\n",
        "\n",
        "human2=Human(\"Ahmed\",21,\"Male\")\n",
        "print(human2.population)\n",
        "print(Human.population)\n"
      ],
      "metadata": {
        "colab": {
          "base_uri": "https://localhost:8080/"
        },
        "id": "rLl985P70OY9",
        "outputId": "07645e35-35ed-479e-ec8d-1471fd8a6577"
      },
      "execution_count": 20,
      "outputs": [
        {
          "output_type": "stream",
          "name": "stdout",
          "text": [
            "hello Sreya\n",
            "1\n",
            "1\n",
            "hello Ahmed\n",
            "2\n",
            "2\n"
          ]
        }
      ]
    },
    {
      "cell_type": "code",
      "source": [
        "#adding more methods to the class\n",
        "class Human:\n",
        "\n",
        "  population=0\n",
        "  # if you want some properties to be with every Human objects\n",
        "  def __init__(self,name,age,gender,alive=True):\n",
        "    #These are known as attributes of an object\n",
        "    self.name=name\n",
        "    self.age=age\n",
        "    self.gender=gender\n",
        "    self.alive=alive\n",
        "    Human.population+=1\n",
        "\n",
        "\n",
        "\n",
        "  #defining a method\n",
        "  def walk(self):\n",
        "    print(f\"{self.name} is walking\")\n",
        "\n",
        "  def children(self,number):\n",
        "    Human.population+=number\n",
        "\n",
        "  def dead(self):\n",
        "    if self.alive==True:\n",
        "      print(f\"{self.name} is dead\")\n",
        "      Human.population-=1\n",
        "      self.alive=False\n",
        "    else:\n",
        "      print(f\"{self.name} is already dead\")\n",
        "\n",
        "human1=Human(\"x\",23,\"Female\") #initialize an object\n",
        "human2=Human(\"Ahmed\",21,\"Male\")\n",
        "\n",
        "print(Human.population)\n",
        "human1.dead()\n",
        "print(Human.population)\n",
        "human1.dead()\n",
        "\n",
        "\n",
        "human1.children(2)\n",
        "print(Human.population)"
      ],
      "metadata": {
        "colab": {
          "base_uri": "https://localhost:8080/"
        },
        "id": "XBAIEUi1Ew-1",
        "outputId": "10a4c088-cfb5-4390-9fd6-87af815e2984"
      },
      "execution_count": 26,
      "outputs": [
        {
          "output_type": "stream",
          "name": "stdout",
          "text": [
            "2\n",
            "x is dead\n",
            "1\n",
            "x is already dead\n",
            "3\n"
          ]
        }
      ]
    },
    {
      "cell_type": "markdown",
      "source": [
        "# Inheritance"
      ],
      "metadata": {
        "id": "AtJx0smdGSDp"
      }
    },
    {
      "cell_type": "code",
      "source": [
        "#parent class\n",
        "class Human:\n",
        "\n",
        "  population=0\n",
        "  data=[]\n",
        "  # if you want some properties to be with every Human objects\n",
        "  def __init__(self,name,age,gender,alive=True):\n",
        "    #These are known as attributes of an object\n",
        "    self.name=name\n",
        "    self.age=age\n",
        "    self.gender=gender\n",
        "    self.alive=alive\n",
        "    Human.population+=1\n",
        "    if self.name not in Human.data:\n",
        "      Human.data.append(self.name)\n",
        "\n",
        "  #defining a method\n",
        "  def walk(self):\n",
        "    print(f\"{self.name} is walking\")\n",
        "\n",
        "  def children(self,number):\n",
        "    Human.population+=number\n",
        "\n",
        "  def dead(self):\n",
        "    if self.alive==True:\n",
        "      print(f\"{self.name} is dead\")\n",
        "      Human.population-=1\n",
        "      self.alive=False\n",
        "    else:\n",
        "      print(f\"{self.name} is already dead\")\n",
        "\n",
        "human1=Human('Jo',23,'Female')\n",
        "human2=Human('Tina',21,'Male')\n",
        "print(f\"current population is {Human.population}\")\n",
        "print(f\"current data: {Human.data}\")"
      ],
      "metadata": {
        "colab": {
          "base_uri": "https://localhost:8080/"
        },
        "id": "5qigCbFyGUug",
        "outputId": "0222d2a0-a547-483a-ab9a-f9cdf98a05e6"
      },
      "execution_count": 40,
      "outputs": [
        {
          "output_type": "stream",
          "name": "stdout",
          "text": [
            "current population is 2\n",
            "current data: ['Jo', 'Tina']\n"
          ]
        }
      ]
    },
    {
      "cell_type": "code",
      "source": [
        "#derived class\n",
        "\n",
        "class Employee(Human): #employee class is inheriting all the attributes and methods of parent class-Human\n",
        "  pass\n",
        "\n",
        "emp1=Employee('Ahmed',23,'Male')\n",
        "print(f\"current population is {Human.population}\") # using parent\n",
        "print(f\"current data: {Human.data}\")\n",
        "emp1.walk() #using parent class methods\n"
      ],
      "metadata": {
        "colab": {
          "base_uri": "https://localhost:8080/"
        },
        "id": "e-5Z2vAVH7HP",
        "outputId": "adb3d97c-8417-4248-f6c5-8510fb4dd45d"
      },
      "execution_count": 41,
      "outputs": [
        {
          "output_type": "stream",
          "name": "stdout",
          "text": [
            "current population is 3\n",
            "current data: ['Jo', 'Tina', 'Ahmed']\n",
            "Ahmed is walking\n"
          ]
        }
      ]
    },
    {
      "cell_type": "code",
      "source": [
        "# we can add attritues to a derived class\n",
        "class Employee(Human):\n",
        "  def __init__(self, name, age, gender, id, role, experience): #reinitiate the constructor, pass all the arguments for the Human.__init__\n",
        "      super().__init__(name, age, gender) #call super and pass the required arguments\n",
        "      self.id=id\n",
        "      self.role=role\n",
        "      self.experience=experience\n",
        "\n",
        "emp1=Employee(name='Aha',age=23,gender='Female',id=434,role=\"Associate\",experience=2)\n",
        "print(emp1.name)\n",
        "print(emp1.age)\n",
        "print(emp1.gender)\n",
        "print(emp1.id)\n",
        "print(emp1.role)\n",
        "print(emp1.experience)\n",
        "print(f\"current population is {Human.population}\") # using parent\n",
        "print(f\"current data: {Human.data}\")\n",
        "\n"
      ],
      "metadata": {
        "colab": {
          "base_uri": "https://localhost:8080/"
        },
        "id": "FcGZnWFaIw08",
        "outputId": "d6e13cc8-5faf-49fa-f8fc-2b534ea18b75"
      },
      "execution_count": 42,
      "outputs": [
        {
          "output_type": "stream",
          "name": "stdout",
          "text": [
            "Aha\n",
            "23\n",
            "Female\n",
            "434\n",
            "Associate\n",
            "2\n",
            "current population is 4\n",
            "current data: ['Jo', 'Tina', 'Ahmed', 'Aha']\n"
          ]
        }
      ]
    },
    {
      "cell_type": "code",
      "source": [
        "# we can add methods to a derived class\n",
        "class Employee(Human):\n",
        "  def __init__(self, name, age, gender, id, role, experience): #reinitiate the constructor, pass all the arguments for the Human.__init__\n",
        "      super().__init__(name, age, gender) #call super and pass the required arguments\n",
        "      self.id=id\n",
        "      self.role=role\n",
        "      self.experience=experience\n",
        "\n",
        "  def hire(self,person):\n",
        "    print(f\"{self.name} is hiring {person}\")\n",
        "    Human.population+=1\n",
        "\n",
        "    Human.data.append(person)\n",
        "\n",
        "emp1=Employee(name='Aha',age=23,gender='Female',id=434,role=\"Associate\",experience=2)\n",
        "\n",
        "emp1.hire(\"Joseph\")\n",
        "print(Employee.data)"
      ],
      "metadata": {
        "colab": {
          "base_uri": "https://localhost:8080/"
        },
        "id": "EApf9kizLYPr",
        "outputId": "262ceb78-9e1f-44aa-f711-5530869a65f3"
      },
      "execution_count": 50,
      "outputs": [
        {
          "output_type": "stream",
          "name": "stdout",
          "text": [
            "Aha is hiring Joseph\n",
            "['Jo', 'Tina', 'Ahmed', 'Aha', 'Joseph', 'Joseph', 'Joseph']\n"
          ]
        }
      ]
    },
    {
      "cell_type": "markdown",
      "source": [
        "# polymorphism"
      ],
      "metadata": {
        "id": "v73E0UDGMtMK"
      }
    },
    {
      "cell_type": "code",
      "source": [
        "#operator-level polymorphism\n",
        "#adding\n",
        "a=2\n",
        "b=4\n",
        "print(a+b)\n",
        "\n",
        "#concatenation\n",
        "a=\"2\"\n",
        "b=\"3\"\n",
        "print(a+b) #working differently for different kinds of operands\n",
        "\n",
        "print(2*3)\n",
        "print(\"2\"*\"3\") #throws an error\n",
        "\n"
      ],
      "metadata": {
        "colab": {
          "base_uri": "https://localhost:8080/"
        },
        "id": "dMS0RNgpMxwM",
        "outputId": "434bdc92-6be1-4da4-a9e8-4df21187293f"
      },
      "execution_count": 51,
      "outputs": [
        {
          "output_type": "stream",
          "name": "stdout",
          "text": [
            "6\n",
            "23\n"
          ]
        }
      ]
    },
    {
      "cell_type": "markdown",
      "source": [
        "#function level polymorphism"
      ],
      "metadata": {
        "id": "GaJm0aD1NfhN"
      }
    },
    {
      "cell_type": "code",
      "source": [
        "#len\n",
        "print(len(\"hello\"))\n",
        "print(len([1,2,3,4]))\n",
        "print(len({\"name\":\"Ahmed\"}))\n",
        "#print(len(123)) #object of type 'int' has no len() #int is not a iterable"
      ],
      "metadata": {
        "colab": {
          "base_uri": "https://localhost:8080/"
        },
        "id": "9QwO1VR9Npk8",
        "outputId": "ac97d564-2148-4452-d309-f63e27df0517"
      },
      "execution_count": 53,
      "outputs": [
        {
          "output_type": "stream",
          "name": "stdout",
          "text": [
            "5\n",
            "4\n",
            "1\n"
          ]
        }
      ]
    },
    {
      "cell_type": "code",
      "source": [
        "#sum\n",
        "print(sum([1,2,3,4]))\n",
        "print(sum((1,2,3,4)))\n",
        "#print(sum(\"sreya\")) unsupported operand type(s) for +: 'int' and 'str'\n",
        "#print(sum(123))#throws an error:'int' object is not iterable"
      ],
      "metadata": {
        "colab": {
          "base_uri": "https://localhost:8080/"
        },
        "id": "i9ngbt8xP0y0",
        "outputId": "809fa6e3-0c06-4022-dbec-167b9b1dc305"
      },
      "execution_count": 57,
      "outputs": [
        {
          "output_type": "stream",
          "name": "stdout",
          "text": [
            "10\n",
            "10\n"
          ]
        }
      ]
    },
    {
      "cell_type": "code",
      "source": [
        "class Human:\n",
        "  def __init__(self,name,language):\n",
        "    self.name=name\n",
        "    self.language=language\n",
        "    print(f\"{name} speaks {language}\")\n",
        "\n",
        "human1=Human(\"Sreya\",\"Telugu\")\n",
        "human2=Human(\"Ahmed\",\"Arabic\")"
      ],
      "metadata": {
        "colab": {
          "base_uri": "https://localhost:8080/"
        },
        "id": "wtoj15h7QZbf",
        "outputId": "faf22cdc-4ac4-422f-eada-031eeab1634e"
      },
      "execution_count": 58,
      "outputs": [
        {
          "output_type": "stream",
          "name": "stdout",
          "text": [
            "Sreya speaks Telugu\n",
            "Ahmed speaks Arabic\n"
          ]
        }
      ]
    }
  ]
}