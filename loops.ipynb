{
  "nbformat": 4,
  "nbformat_minor": 0,
  "metadata": {
    "colab": {
      "provenance": [],
      "authorship_tag": "ABX9TyOcN0biW6Kx72td2EPYzVlm",
      "include_colab_link": true
    },
    "kernelspec": {
      "name": "python3",
      "display_name": "Python 3"
    },
    "language_info": {
      "name": "python"
    }
  },
  "cells": [
    {
      "cell_type": "markdown",
      "metadata": {
        "id": "view-in-github",
        "colab_type": "text"
      },
      "source": [
        "<a href=\"https://colab.research.google.com/github/SREYAKUKUTAPU/Basics-of-Python/blob/main/loops.ipynb\" target=\"_parent\"><img src=\"https://colab.research.google.com/assets/colab-badge.svg\" alt=\"Open In Colab\"/></a>"
      ]
    },
    {
      "cell_type": "markdown",
      "source": [
        "for loop: Use when you know the number of iterations in advance.\n",
        "\n",
        "while loop: Use when the number of iterations is unknown and depends on a condition."
      ],
      "metadata": {
        "id": "wfvXVCf5lcPy"
      }
    },
    {
      "cell_type": "markdown",
      "source": [
        "# while loop"
      ],
      "metadata": {
        "id": "9l-RNnoHlQm-"
      }
    },
    {
      "cell_type": "code",
      "execution_count": null,
      "metadata": {
        "colab": {
          "base_uri": "https://localhost:8080/"
        },
        "id": "KltKERFUkzdL",
        "outputId": "fd370d6c-3ed5-4ef5-bf04-bc1742ddaf44"
      },
      "outputs": [
        {
          "output_type": "stream",
          "name": "stdout",
          "text": [
            "Enter any number: 5\n",
            "5\n",
            "10\n",
            "15\n",
            "20\n",
            "25\n",
            "30\n",
            "35\n",
            "40\n",
            "45\n",
            "50\n"
          ]
        }
      ],
      "source": [
        "#initialize\n",
        "i=1\n",
        "\n",
        "value=int(input(\"Enter any number: \"))\n",
        "\n",
        "while(i<=10): #while the condition is true, statements are executed\n",
        "  print(i*value)\n",
        "  i+=1 #increment\n",
        "\n"
      ]
    },
    {
      "cell_type": "code",
      "source": [
        "# example: printing the even numbers from 1-10\n",
        "i=1\n",
        "while(i<=10):\n",
        "  if(i%2==0):\n",
        "    print(i,end=\" \")\n",
        "  i+=1"
      ],
      "metadata": {
        "colab": {
          "base_uri": "https://localhost:8080/"
        },
        "id": "-LVUoVMTnYGt",
        "outputId": "1702072c-ed37-4186-8a25-2f8e008c03ec"
      },
      "execution_count": null,
      "outputs": [
        {
          "output_type": "stream",
          "name": "stdout",
          "text": [
            "2 4 6 8 10 "
          ]
        }
      ]
    },
    {
      "cell_type": "code",
      "source": [
        "# example: sum of the numbers\n",
        "\n",
        "number=int(input(\"Enter any number:\"))\n",
        "i=1\n",
        "sum=0\n",
        "while(i<=number):\n",
        "  sum+=i\n",
        "  i+=1\n",
        "print(sum)"
      ],
      "metadata": {
        "colab": {
          "base_uri": "https://localhost:8080/"
        },
        "id": "beqCLdE8n9xU",
        "outputId": "53e43bf5-7110-4970-e09f-2627340268fe"
      },
      "execution_count": null,
      "outputs": [
        {
          "output_type": "stream",
          "name": "stdout",
          "text": [
            "Enter any number:10\n",
            "55\n"
          ]
        }
      ]
    },
    {
      "cell_type": "markdown",
      "source": [
        "# range() function:\n",
        "range() allows users to generate series of numbers. It is iterable as well."
      ],
      "metadata": {
        "id": "RF4QsUDeoqt2"
      }
    },
    {
      "cell_type": "code",
      "source": [
        "\n",
        "# Now, this should work correctly:\n",
        "list(range(1, 10, 2))  # range(start,stop,step)\n",
        "list(range(1,5)) #start is included and end is excluded -->end-1\n",
        "list(range(10,1,-2))"
      ],
      "metadata": {
        "colab": {
          "base_uri": "https://localhost:8080/"
        },
        "id": "S_63qR0SpBvW",
        "outputId": "76b91caa-d78b-440a-fd0c-dcabccdc9578"
      },
      "execution_count": null,
      "outputs": [
        {
          "output_type": "execute_result",
          "data": {
            "text/plain": [
              "[10, 8, 6, 4, 2]"
            ]
          },
          "metadata": {},
          "execution_count": 18
        }
      ]
    },
    {
      "cell_type": "markdown",
      "source": [
        "Iterable, Iterator and Iteration\n",
        "\n",
        "Iterable: An object capable of returning its members one at a time. (e.g., a list, tuple, string)\n",
        "\n",
        "Iterator: An object that produces the next value from an iterable when you call next() on it.\n",
        "\n",
        "Iteration: The process of repeatedly getting the next value from an iterator until it's exhausted. (e.g., using a for loop)\n",
        "\n",
        "Relating back to the chocolate distribution analogy:\n",
        "\n",
        "Iterable: The box of chocolates the child is carrying.\n",
        "\n",
        "Iterator: The child's hand reaching into the box to get one chocolate.\n",
        "\n",
        "Iteration: The process of the child distributing chocolates one by one to each student."
      ],
      "metadata": {
        "id": "FZdg2jFNtItH"
      }
    },
    {
      "cell_type": "markdown",
      "source": [
        "# for loop"
      ],
      "metadata": {
        "id": "b9kHhQdMq9zT"
      }
    },
    {
      "cell_type": "code",
      "source": [
        "# for iterator in iterable:\n",
        "\n",
        "for i in range(1,11):\n",
        "  print(i,end=\" \")"
      ],
      "metadata": {
        "colab": {
          "base_uri": "https://localhost:8080/"
        },
        "id": "YTL6kc1urB_y",
        "outputId": "c66c7afc-5e7b-4467-b344-3636da75e8a1"
      },
      "execution_count": null,
      "outputs": [
        {
          "output_type": "stream",
          "name": "stdout",
          "text": [
            "1 2 3 4 5 6 7 8 9 10 "
          ]
        }
      ]
    },
    {
      "cell_type": "code",
      "source": [
        "#example: multiplication table\n",
        "\n",
        "value=int(input(\"Enter any number: \"))\n",
        "for i in range(1,11):\n",
        "  print(i*value, end=\" \")"
      ],
      "metadata": {
        "colab": {
          "base_uri": "https://localhost:8080/"
        },
        "id": "gpeABNE4uXlr",
        "outputId": "6c15834b-2b3d-4d30-bced-4783686b78c7"
      },
      "execution_count": null,
      "outputs": [
        {
          "output_type": "stream",
          "name": "stdout",
          "text": [
            "Enter any number: 4\n",
            "4 8 12 16 20 24 28 32 36 40 "
          ]
        }
      ]
    },
    {
      "cell_type": "markdown",
      "source": [
        "pattern\n",
        "\n",
        "###\n",
        "###\n",
        "###\n"
      ],
      "metadata": {
        "id": "Wm7iTZNGuu7G"
      }
    },
    {
      "cell_type": "code",
      "source": [
        "n=3\n",
        "for row in range(0,n):\n",
        "  for column in range(0,n):\n",
        "    print(\"#\",end=\"\")\n",
        "  print() #new line for each row"
      ],
      "metadata": {
        "colab": {
          "base_uri": "https://localhost:8080/"
        },
        "id": "zL0b5NU2u8Wu",
        "outputId": "4afeec67-88ef-4a2b-a8ff-0fe3c1d5549a"
      },
      "execution_count": null,
      "outputs": [
        {
          "output_type": "stream",
          "name": "stdout",
          "text": [
            "###\n",
            "###\n",
            "###\n"
          ]
        }
      ]
    },
    {
      "cell_type": "markdown",
      "source": [
        "pattern 2\n",
        "\n",
        "#\n",
        "\n",
        "##\n",
        "\n",
        "###\n",
        "\n",
        "###\n",
        "\n",
        "##\n",
        "\n",
        "#\n",
        "\n"
      ],
      "metadata": {
        "id": "9bSfJDscwNfG"
      }
    },
    {
      "cell_type": "code",
      "source": [
        "n=3\n",
        "for row in range(1,n+1):\n",
        "  for column in range(row):\n",
        "    print(\"#\",end=\"\")\n",
        "  print()\n",
        "for row in range(n,0,-1):\n",
        "  for column in range(row):\n",
        "    print(\"#\",end=\"\")\n",
        "  print()\n"
      ],
      "metadata": {
        "colab": {
          "base_uri": "https://localhost:8080/"
        },
        "id": "If3eTZyjwSTn",
        "outputId": "fd768a8d-7027-4db9-8e2e-7374b6b73800"
      },
      "execution_count": null,
      "outputs": [
        {
          "output_type": "stream",
          "name": "stdout",
          "text": [
            "#\n",
            "##\n",
            "###\n",
            "###\n",
            "##\n",
            "#\n"
          ]
        }
      ]
    },
    {
      "cell_type": "code",
      "source": [
        "spaces=n-1\n",
        "star=1\n",
        "for i in range(n):\n",
        "  print(\" \"*spaces+\"*\"*star)\n",
        "  spaces-=1\n",
        "  star+=2"
      ],
      "metadata": {
        "colab": {
          "base_uri": "https://localhost:8080/"
        },
        "id": "MDsdGGjq45ir",
        "outputId": "3d71021d-1413-49e7-cbf7-17ca0cd132f4"
      },
      "execution_count": null,
      "outputs": [
        {
          "output_type": "stream",
          "name": "stdout",
          "text": [
            "    *\n",
            "   ***\n",
            "  *****\n",
            " *******\n",
            "*********\n"
          ]
        }
      ]
    },
    {
      "cell_type": "code",
      "source": [
        "rows=5\n",
        "for i in range(1, rows + 1):\n",
        "    # Print spaces\n",
        "    print(\" \" * (rows - i), end=\"\")\n",
        "    # Print stars\n",
        "    print(\"*\" * (2 * i - 1))"
      ],
      "metadata": {
        "colab": {
          "base_uri": "https://localhost:8080/"
        },
        "id": "OOxYOB2r5BZu",
        "outputId": "e9798d87-8edc-44c0-ee61-230a5229e37d"
      },
      "execution_count": null,
      "outputs": [
        {
          "output_type": "stream",
          "name": "stdout",
          "text": [
            "    *\n",
            "   ***\n",
            "  *****\n",
            " *******\n",
            "*********\n"
          ]
        }
      ]
    },
    {
      "cell_type": "markdown",
      "source": [
        "Break, Continue and Pass\n",
        "\n",
        "These statements are used to alter the flow of a program\n",
        "\n",
        "break: Immediately terminates the current loop.\n",
        "\n",
        "continue: Skips the rest of the current iteration and proceeds to the next.\n",
        "\n",
        "pass: Acts as a placeholder, doing nothing."
      ],
      "metadata": {
        "id": "cE1J7eKsy9ow"
      }
    },
    {
      "cell_type": "code",
      "source": [
        "#pass: to avoid syntax error\n",
        "for i in range(1,11):\n",
        "  pass\n",
        "\n",
        "def function(): #function definition\n",
        "  pass"
      ],
      "metadata": {
        "id": "qM84_LlfzhWz"
      },
      "execution_count": null,
      "outputs": []
    },
    {
      "cell_type": "code",
      "source": [
        "# break\n",
        "for i in range(1,11):\n",
        "  if(i==6):\n",
        "    break\n",
        "  print(i,end=\" \")"
      ],
      "metadata": {
        "colab": {
          "base_uri": "https://localhost:8080/"
        },
        "id": "9zA93Ehqznlm",
        "outputId": "6b9a89c8-ebbc-4a60-bd60-e97e701c4c0f"
      },
      "execution_count": null,
      "outputs": [
        {
          "output_type": "stream",
          "name": "stdout",
          "text": [
            "1 2 3 4 5 "
          ]
        }
      ]
    },
    {
      "cell_type": "code",
      "source": [
        "#continue\n",
        "for i in range(1,11):\n",
        "  if(i==6):\n",
        "    continue\n",
        "  print(i,end=\" \") # 6 is skipped"
      ],
      "metadata": {
        "colab": {
          "base_uri": "https://localhost:8080/"
        },
        "id": "_df1jeUhz1RC",
        "outputId": "c5392b8f-1e10-49b2-d1f9-824ec6b3110d"
      },
      "execution_count": null,
      "outputs": [
        {
          "output_type": "stream",
          "name": "stdout",
          "text": [
            "1 2 3 4 5 7 8 9 10 "
          ]
        }
      ]
    }
  ]
}