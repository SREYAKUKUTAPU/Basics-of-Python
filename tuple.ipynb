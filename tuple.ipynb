{
  "nbformat": 4,
  "nbformat_minor": 0,
  "metadata": {
    "colab": {
      "provenance": [],
      "authorship_tag": "ABX9TyNRfHm6hDw6aldsGgnqRbFy",
      "include_colab_link": true
    },
    "kernelspec": {
      "name": "python3",
      "display_name": "Python 3"
    },
    "language_info": {
      "name": "python"
    }
  },
  "cells": [
    {
      "cell_type": "markdown",
      "metadata": {
        "id": "view-in-github",
        "colab_type": "text"
      },
      "source": [
        "<a href=\"https://colab.research.google.com/github/SREYAKUKUTAPU/Basics-of-Python/blob/main/tuple.ipynb\" target=\"_parent\"><img src=\"https://colab.research.google.com/assets/colab-badge.svg\" alt=\"Open In Colab\"/></a>"
      ]
    },
    {
      "cell_type": "markdown",
      "source": [
        "# Introduction"
      ],
      "metadata": {
        "id": "pjTwgBfKfHPs"
      }
    },
    {
      "cell_type": "code",
      "source": [
        "#creating a tuple\n",
        "data=(\"x\",\"y\",\"z\")\n",
        "print(data)\n",
        "\n",
        "data=tuple([\"x\",\"y\",\"z\"])\n",
        "print(data)\n",
        "\n",
        "t1=(2)\n",
        "print(type(t1))\n",
        "t2=(2,)\n",
        "print(t2)\n",
        "\n",
        "t3=tuple(\"Sreya\") #String is a iterable\n",
        "print(t3)\n",
        "t3=tuple([\"Sreya\"]) #list is a iterable\n",
        "print(t3)\n",
        "t3=tuple(range(1,11))\n",
        "print(t3)"
      ],
      "metadata": {
        "colab": {
          "base_uri": "https://localhost:8080/"
        },
        "id": "zlbaDswCgVxW",
        "outputId": "ee05944f-92b4-4c3e-c9db-f18e9c00cd54"
      },
      "execution_count": 15,
      "outputs": [
        {
          "output_type": "stream",
          "name": "stdout",
          "text": [
            "('x', 'y', 'z')\n",
            "('x', 'y', 'z')\n",
            "<class 'int'>\n",
            "(2,)\n",
            "('S', 'r', 'e', 'y', 'a')\n",
            "('Sreya',)\n",
            "(1, 2, 3, 4, 5, 6, 7, 8, 9, 10)\n"
          ]
        }
      ]
    },
    {
      "cell_type": "code",
      "source": [
        "#ordered collection\n",
        "data=(\"x\",\"y\",\"z\")\n",
        "print(data[1])\n",
        "\n"
      ],
      "metadata": {
        "colab": {
          "base_uri": "https://localhost:8080/"
        },
        "id": "9GKWy-J7fGtA",
        "outputId": "b5490a66-414b-49cd-b973-1857c52b8908"
      },
      "execution_count": 3,
      "outputs": [
        {
          "output_type": "stream",
          "name": "stdout",
          "text": [
            "y\n"
          ]
        }
      ]
    },
    {
      "cell_type": "code",
      "execution_count": 17,
      "metadata": {
        "colab": {
          "base_uri": "https://localhost:8080/"
        },
        "id": "_ubIdGd4coYp",
        "outputId": "da7ccb1f-2329-4a7b-a7a0-6cc76301ec75"
      },
      "outputs": [
        {
          "output_type": "stream",
          "name": "stdout",
          "text": [
            "('x', 'y', ['A', 'b'])\n"
          ]
        }
      ],
      "source": [
        "#tuple is immutable, but we can update a value if the value is mutubale eg:list\n",
        "#data[1]=\"a\" #throws error\n",
        "data=(\"x\",\"y\",[\"a\",\"b\"])\n",
        "data[2][0]=\"A\"\n",
        "print(data)\n"
      ]
    },
    {
      "cell_type": "code",
      "source": [
        "#iterable\n",
        "for i in data:\n",
        "    print(i)"
      ],
      "metadata": {
        "colab": {
          "base_uri": "https://localhost:8080/"
        },
        "id": "ccVZ8ih3frji",
        "outputId": "1f18ca01-5907-436c-8ddf-7b6f53985c39"
      },
      "execution_count": 8,
      "outputs": [
        {
          "output_type": "stream",
          "name": "stdout",
          "text": [
            "x\n",
            "y\n",
            "z\n"
          ]
        }
      ]
    },
    {
      "cell_type": "code",
      "source": [
        "#heterogenous\n",
        "data=(1,\"a\",True,None,1.5)\n",
        "print(data)"
      ],
      "metadata": {
        "colab": {
          "base_uri": "https://localhost:8080/"
        },
        "id": "Pkc7YSzmfupr",
        "outputId": "34b2de40-e6a1-4455-89cd-cc3607698dcf"
      },
      "execution_count": 10,
      "outputs": [
        {
          "output_type": "stream",
          "name": "stdout",
          "text": [
            "(1, 'a', True, None, 1.5)\n"
          ]
        }
      ]
    },
    {
      "cell_type": "markdown",
      "source": [
        "Unpacking a tuple"
      ],
      "metadata": {
        "id": "_t77Cperiisr"
      }
    },
    {
      "cell_type": "code",
      "source": [
        "t=(1,2,3)\n",
        "a,b,c=t\n",
        "print(a,b,c)"
      ],
      "metadata": {
        "colab": {
          "base_uri": "https://localhost:8080/"
        },
        "id": "2YQ-io2TiiTw",
        "outputId": "d7be1004-53b9-4ce9-d22a-e982e2d76c22"
      },
      "execution_count": 18,
      "outputs": [
        {
          "output_type": "stream",
          "name": "stdout",
          "text": [
            "1 2 3\n"
          ]
        }
      ]
    },
    {
      "cell_type": "code",
      "source": [
        "#list unpacking\n",
        "# t=[1,2,3]\n",
        "# a,b,c=t\n",
        "# print(a,b,c)"
      ],
      "metadata": {
        "colab": {
          "base_uri": "https://localhost:8080/"
        },
        "id": "Zb5kDUFgi7V9",
        "outputId": "aa87b1fc-5c4e-4217-a99e-47439ff4830a"
      },
      "execution_count": 19,
      "outputs": [
        {
          "output_type": "stream",
          "name": "stdout",
          "text": [
            "1 2 3\n"
          ]
        }
      ]
    },
    {
      "cell_type": "markdown",
      "source": [
        "# Tuple methods\n",
        "\n",
        "\n"
      ],
      "metadata": {
        "id": "cXfFTtD2jJOY"
      }
    },
    {
      "cell_type": "code",
      "source": [
        "#count()\n",
        "t=(1,2,3,2,4,1)\n",
        "print(t.count(1))\n",
        "print(t.count(45))"
      ],
      "metadata": {
        "colab": {
          "base_uri": "https://localhost:8080/"
        },
        "id": "JxaGSSdojMc4",
        "outputId": "072fa61e-9157-4184-a9e2-dfea632d0607"
      },
      "execution_count": 22,
      "outputs": [
        {
          "output_type": "stream",
          "name": "stdout",
          "text": [
            "2\n",
            "0\n"
          ]
        }
      ]
    },
    {
      "cell_type": "code",
      "source": [
        "#index()\n",
        "print(t.index(2))\n",
        "print(t.index(2,2))"
      ],
      "metadata": {
        "colab": {
          "base_uri": "https://localhost:8080/"
        },
        "id": "d8-BYsDtjgbY",
        "outputId": "737991bd-e102-4893-f2a5-17723a651e5a"
      },
      "execution_count": 27,
      "outputs": [
        {
          "output_type": "stream",
          "name": "stdout",
          "text": [
            "1\n",
            "3\n"
          ]
        }
      ]
    },
    {
      "cell_type": "code",
      "source": [
        "#concatenation\n",
        "t=(1,2)\n",
        "t1=(3,4)\n",
        "t2=t+t1\n",
        "print(t2)\n",
        "\n",
        "print(t2*2)\n",
        "print(t2)\n"
      ],
      "metadata": {
        "colab": {
          "base_uri": "https://localhost:8080/"
        },
        "id": "eg8B-_xXj9KM",
        "outputId": "10ce61bc-4006-4c9c-ff18-72f0d14ba224"
      },
      "execution_count": 31,
      "outputs": [
        {
          "output_type": "stream",
          "name": "stdout",
          "text": [
            "(1, 2, 3, 4)\n",
            "(1, 2, 3, 4, 1, 2, 3, 4)\n",
            "(1, 2, 3, 4)\n"
          ]
        }
      ]
    },
    {
      "cell_type": "code",
      "source": [
        "#tuple to list\n",
        "list1=list((1,2))\n",
        "print(list1)\n",
        "\n",
        "tuple1=tuple(list1)\n",
        "print(tuple1)"
      ],
      "metadata": {
        "colab": {
          "base_uri": "https://localhost:8080/"
        },
        "id": "7cULWccQksiA",
        "outputId": "525d97aa-0da4-46fe-9b8e-0ca940a5bc58"
      },
      "execution_count": 32,
      "outputs": [
        {
          "output_type": "stream",
          "name": "stdout",
          "text": [
            "[1, 2]\n",
            "(1, 2)\n"
          ]
        }
      ]
    },
    {
      "cell_type": "code",
      "source": [
        "fruits=('orange')\n",
        "print(type(fruits))"
      ],
      "metadata": {
        "colab": {
          "base_uri": "https://localhost:8080/"
        },
        "id": "f9CtNRvvk9fw",
        "outputId": "75ecd294-59ce-4fd5-a753-508085d735b5"
      },
      "execution_count": 33,
      "outputs": [
        {
          "output_type": "stream",
          "name": "stdout",
          "text": [
            "<class 'str'>\n"
          ]
        }
      ]
    },
    {
      "cell_type": "code",
      "source": [
        "name_lst = [\"Vijay\", \"Vickey\"]\n",
        "tup = (\"Item_1\", 0.5, name_lst)\n",
        "print(tup)\n",
        "name_lst.append(\"Vishal\")\n",
        "print(tup)"
      ],
      "metadata": {
        "colab": {
          "base_uri": "https://localhost:8080/"
        },
        "id": "Qeo7fvX1lL1k",
        "outputId": "7933f46b-2537-40c9-af86-280c747ff916"
      },
      "execution_count": 35,
      "outputs": [
        {
          "output_type": "stream",
          "name": "stdout",
          "text": [
            "('Item_1', 0.5, ['Vijay', 'Vickey'])\n",
            "('Item_1', 0.5, ['Vijay', 'Vickey', 'Vishal'])\n"
          ]
        }
      ]
    },
    {
      "cell_type": "code",
      "source": [
        "elements = (10, 20, 30, 40, 50, 60, 70, 80)\n",
        "print(elements[2:5], elements[:4], elements[3:100])"
      ],
      "metadata": {
        "colab": {
          "base_uri": "https://localhost:8080/"
        },
        "id": "EzOyEvPqluWZ",
        "outputId": "e019108e-7220-4a6c-c921-69f94f1c52f7"
      },
      "execution_count": 36,
      "outputs": [
        {
          "output_type": "stream",
          "name": "stdout",
          "text": [
            "(30, 40, 50) (10, 20, 30, 40) (40, 50, 60, 70, 80)\n"
          ]
        }
      ]
    },
    {
      "cell_type": "code",
      "source": [
        "def get_index(tup, elem):\n",
        "\n",
        "     try:\n",
        "       return tup.index(elem)  # Use the built-in index() method\n",
        "     except ValueError:\n",
        "       return -1  # Return -1 if the element is not found"
      ],
      "metadata": {
        "id": "jKepu14wnTcG"
      },
      "execution_count": 37,
      "outputs": []
    }
  ]
}