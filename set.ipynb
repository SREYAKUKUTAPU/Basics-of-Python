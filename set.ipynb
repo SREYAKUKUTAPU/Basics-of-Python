{
  "nbformat": 4,
  "nbformat_minor": 0,
  "metadata": {
    "colab": {
      "provenance": [],
      "authorship_tag": "ABX9TyOVq78EV+CUhZTCtlZmmLX0",
      "include_colab_link": true
    },
    "kernelspec": {
      "name": "python3",
      "display_name": "Python 3"
    },
    "language_info": {
      "name": "python"
    }
  },
  "cells": [
    {
      "cell_type": "markdown",
      "metadata": {
        "id": "view-in-github",
        "colab_type": "text"
      },
      "source": [
        "<a href=\"https://colab.research.google.com/github/SREYAKUKUTAPU/Basics-of-Python/blob/main/set.ipynb\" target=\"_parent\"><img src=\"https://colab.research.google.com/assets/colab-badge.svg\" alt=\"Open In Colab\"/></a>"
      ]
    },
    {
      "cell_type": "markdown",
      "source": [
        "# Introduction\n",
        "#unique collection , unordered, unindexed, mutable"
      ],
      "metadata": {
        "id": "Z7JC5vB5iVK0"
      }
    },
    {
      "cell_type": "code",
      "source": [
        "#creating a set\n",
        "data={1,2,3}\n",
        "print(data)\n",
        "\n",
        "data=set((1,1,2,3))\n",
        "print(data)"
      ],
      "metadata": {
        "colab": {
          "base_uri": "https://localhost:8080/"
        },
        "id": "eI7CKdt5i_SE",
        "outputId": "3dfe153e-b410-44ea-beb3-72647d899e9b"
      },
      "execution_count": 3,
      "outputs": [
        {
          "output_type": "stream",
          "name": "stdout",
          "text": [
            "{1, 2, 3}\n",
            "{1, 2, 3}\n"
          ]
        }
      ]
    },
    {
      "cell_type": "code",
      "execution_count": 1,
      "metadata": {
        "colab": {
          "base_uri": "https://localhost:8080/"
        },
        "id": "nKoKerFXiRYY",
        "outputId": "c94fed81-8e36-40c5-ef20-a8b516ea6215"
      },
      "outputs": [
        {
          "output_type": "stream",
          "name": "stdout",
          "text": [
            "{1, 2, 3}\n"
          ]
        }
      ],
      "source": [
        "#unique collection\n",
        "data={1,1,2,3}\n",
        "print(data)"
      ]
    },
    {
      "cell_type": "code",
      "source": [
        "#unordered\n",
        "data={3,1,2}\n",
        "print(data)\n",
        "data=set(\"Sreya\")\n",
        "print(data)\n"
      ],
      "metadata": {
        "colab": {
          "base_uri": "https://localhost:8080/"
        },
        "id": "iQAG4dD-i8wJ",
        "outputId": "439c28ef-4484-43ab-bffe-023e6a5b4d4a"
      },
      "execution_count": 7,
      "outputs": [
        {
          "output_type": "stream",
          "name": "stdout",
          "text": [
            "{1, 2, 3}\n",
            "{'S', 'r', 'a', 'e', 'y'}\n"
          ]
        }
      ]
    },
    {
      "cell_type": "code",
      "source": [
        "#unindexed\n",
        "data={3,1,2}\n",
        "#print(data[0]) #throws a error: TypeError: 'set' object is not subscriptable"
      ],
      "metadata": {
        "id": "GwT4k1B0jUeN"
      },
      "execution_count": 8,
      "outputs": []
    },
    {
      "cell_type": "markdown",
      "source": [
        "# updating a set"
      ],
      "metadata": {
        "id": "kI2bBiTqj50s"
      }
    },
    {
      "cell_type": "code",
      "source": [
        "data={1,2,3}\n",
        "data.add(4)\n",
        "print(data)\n",
        "name=\"Sreya\"\n",
        "data.update(name)\n",
        "print(data)"
      ],
      "metadata": {
        "colab": {
          "base_uri": "https://localhost:8080/"
        },
        "id": "0bTHiuX2j5Mz",
        "outputId": "a67e6794-18ae-4984-baa8-7e3fa233dc28"
      },
      "execution_count": 10,
      "outputs": [
        {
          "output_type": "stream",
          "name": "stdout",
          "text": [
            "{1, 2, 3, 4}\n",
            "{1, 2, 3, 4, 'S', 'r', 'a', 'e', 'y'}\n"
          ]
        }
      ]
    },
    {
      "cell_type": "markdown",
      "source": [
        "# deleting an element"
      ],
      "metadata": {
        "id": "6nVIRnhgkMeF"
      }
    },
    {
      "cell_type": "code",
      "source": [
        "#pop() : removes a random element\n",
        "data={1,2,3}\n",
        "data.pop()\n",
        "\n",
        "print(data)"
      ],
      "metadata": {
        "colab": {
          "base_uri": "https://localhost:8080/"
        },
        "id": "mj27vNn9kL8w",
        "outputId": "f1afeadc-7843-405a-ceba-899d187d1ade"
      },
      "execution_count": 14,
      "outputs": [
        {
          "output_type": "stream",
          "name": "stdout",
          "text": [
            "{2, 3}\n"
          ]
        }
      ]
    },
    {
      "cell_type": "code",
      "source": [
        "#remove(): to remove a particular element\n",
        "data={1,2,3}\n",
        "data.remove(2)\n",
        "print(data)"
      ],
      "metadata": {
        "colab": {
          "base_uri": "https://localhost:8080/"
        },
        "id": "m4FCvQBajhWp",
        "outputId": "c9ebee20-0e76-4f14-e874-36480608e3b5"
      },
      "execution_count": 15,
      "outputs": [
        {
          "output_type": "stream",
          "name": "stdout",
          "text": [
            "{1, 3}\n"
          ]
        }
      ]
    },
    {
      "cell_type": "markdown",
      "source": [
        "# Other methods"
      ],
      "metadata": {
        "id": "EPEHlDRgkvIx"
      }
    },
    {
      "cell_type": "code",
      "source": [
        "#intersection: return common elements from the two sets\n",
        "data1={1,2,3}\n",
        "data2={2,3,4}\n",
        "print(data1.intersection(data2))\n"
      ],
      "metadata": {
        "colab": {
          "base_uri": "https://localhost:8080/"
        },
        "id": "CUzfGbU5k0ka",
        "outputId": "8b38e89f-c14a-4340-c7f0-b8c955ad4928"
      },
      "execution_count": 20,
      "outputs": [
        {
          "output_type": "stream",
          "name": "stdout",
          "text": [
            "{2, 3}\n"
          ]
        }
      ]
    },
    {
      "cell_type": "code",
      "source": [
        "#union : combine the elements (common elements are considered only once)\n",
        "print(data1.union(data2))"
      ],
      "metadata": {
        "colab": {
          "base_uri": "https://localhost:8080/"
        },
        "id": "NoDfZDIXk_Yp",
        "outputId": "9f6b3893-a6e5-4d93-fd7e-f517fbd6551a"
      },
      "execution_count": 19,
      "outputs": [
        {
          "output_type": "stream",
          "name": "stdout",
          "text": [
            "{1, 2, 3, 4}\n"
          ]
        }
      ]
    },
    {
      "cell_type": "code",
      "source": [
        "#difference\n",
        "print(data1.difference(data2)) # A.difference(b) returns all the elements in A but not in set b. Similarly vice versa"
      ],
      "metadata": {
        "colab": {
          "base_uri": "https://localhost:8080/"
        },
        "id": "8_jhysLklQ58",
        "outputId": "610f3983-87ee-4de6-9169-2b87c7ded6d2"
      },
      "execution_count": 21,
      "outputs": [
        {
          "output_type": "stream",
          "name": "stdout",
          "text": [
            "{1}\n"
          ]
        }
      ]
    },
    {
      "cell_type": "markdown",
      "source": [
        "# example: Find no of unique words in a sentence"
      ],
      "metadata": {
        "id": "6sUy97QDmKb4"
      }
    },
    {
      "cell_type": "code",
      "source": [
        "sentence = \"This is a sentence with some repeated words like sentence and words\"\n",
        "words = sentence.split()\n",
        "unique_words = set(words)\n",
        "print(unique_words)\n",
        "print(len(unique_words))"
      ],
      "metadata": {
        "colab": {
          "base_uri": "https://localhost:8080/"
        },
        "id": "gJ0KhLM1mJcZ",
        "outputId": "24e79981-5fdf-42d6-eed2-7c7c19f6632a"
      },
      "execution_count": 23,
      "outputs": [
        {
          "output_type": "stream",
          "name": "stdout",
          "text": [
            "{'is', 'and', 'with', 'like', 'sentence', 'a', 'some', 'repeated', 'This', 'words'}\n",
            "10\n"
          ]
        }
      ]
    },
    {
      "cell_type": "code",
      "source": [
        "# a={'Aurn', 'Nikhil', 'Seeta'}\n",
        "# a[0]= 'Arun'\n",
        "# print(a)"
      ],
      "metadata": {
        "id": "O2ztiZgTnABa"
      },
      "execution_count": 27,
      "outputs": []
    },
    {
      "cell_type": "code",
      "source": [
        "sets = {3, 4, 5}\n",
        "sets = sets.union({1, 2, 3})\n",
        "print(sets)"
      ],
      "metadata": {
        "colab": {
          "base_uri": "https://localhost:8080/"
        },
        "id": "2s_ElCFknd4G",
        "outputId": "5981b00c-283a-4a37-fb65-17bf67f1ef28"
      },
      "execution_count": 28,
      "outputs": [
        {
          "output_type": "stream",
          "name": "stdout",
          "text": [
            "{1, 2, 3, 4, 5}\n"
          ]
        }
      ]
    },
    {
      "cell_type": "code",
      "source": [
        "sets = {3, 4, 5}\n",
        "sets.update([1, 2, 3])\n",
        "print(sets)"
      ],
      "metadata": {
        "colab": {
          "base_uri": "https://localhost:8080/"
        },
        "id": "wpnwGyPmnock",
        "outputId": "2bc51c7e-539f-4ad6-8157-419d7db621db"
      },
      "execution_count": 31,
      "outputs": [
        {
          "output_type": "stream",
          "name": "stdout",
          "text": [
            "{1, 2, 3, 4, 5}\n"
          ]
        }
      ]
    },
    {
      "cell_type": "code",
      "source": [
        "# set1 = {1, 2, 4}\n",
        "# set2 = {4, 5, 6}\n",
        "# print(len(set1 + set2))"
      ],
      "metadata": {
        "id": "AcVf3_oEn-ND"
      },
      "execution_count": 33,
      "outputs": []
    }
  ]
}