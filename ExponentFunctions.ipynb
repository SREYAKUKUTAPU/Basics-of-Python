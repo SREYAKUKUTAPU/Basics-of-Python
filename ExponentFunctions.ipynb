{
  "nbformat": 4,
  "nbformat_minor": 0,
  "metadata": {
    "colab": {
      "provenance": [],
      "authorship_tag": "ABX9TyO2M18LDXU2SfwUgWWBFAJa",
      "include_colab_link": true
    },
    "kernelspec": {
      "name": "python3",
      "display_name": "Python 3"
    },
    "language_info": {
      "name": "python"
    }
  },
  "cells": [
    {
      "cell_type": "markdown",
      "metadata": {
        "id": "view-in-github",
        "colab_type": "text"
      },
      "source": [
        "<a href=\"https://colab.research.google.com/github/SREYAKUKUTAPU/Basics-of-Python/blob/main/ExponentFunctions.ipynb\" target=\"_parent\"><img src=\"https://colab.research.google.com/assets/colab-badge.svg\" alt=\"Open In Colab\"/></a>"
      ]
    },
    {
      "cell_type": "markdown",
      "source": [
        "#Summary\n",
        "Exponentiation Operator (**): The simplest and most common way to calculate powers; it works well for integers and floats. Example: 2 ** 3 gives 8.\n",
        "\n",
        "pow() Function: A built-in function that supports both regular and modular exponentiation. Example: pow(2, 3) gives 8, and pow(2, 3, 3) computes (2 ** 3) % 3 and gives 2.\n",
        "\n",
        "math.pow() Function: Part of the math module, this always returns a float, even if the inputs are integers. Example: math.pow(2, 3) gives 8.0.\n",
        "\n",
        "numpy.power() Function: Used for element-wise exponentiation with arrays or scalars in the numpy library. Example: np.power([1, 2, 3], 3) gives [1, 8, 27]."
      ],
      "metadata": {
        "id": "y8GldXWEtYlb"
      }
    },
    {
      "cell_type": "markdown",
      "source": [
        "# 1. Using the Exponentiation Operator (**)\n",
        "The ** operator is the most straightforward way to calculate exponents.\n",
        "\n",
        "base ** exponent\n"
      ],
      "metadata": {
        "id": "y9LC7FpSsDwk"
      }
    },
    {
      "cell_type": "code",
      "source": [
        "result = 2 ** 3  # 2 raised to the power of 3\n",
        "print(result)  # Output: 8"
      ],
      "metadata": {
        "colab": {
          "base_uri": "https://localhost:8080/"
        },
        "id": "NgejunVrsJiX",
        "outputId": "502ee8b3-54de-40c8-df1f-d2ec17093a96"
      },
      "execution_count": 1,
      "outputs": [
        {
          "output_type": "stream",
          "name": "stdout",
          "text": [
            "8\n"
          ]
        }
      ]
    },
    {
      "cell_type": "markdown",
      "source": [
        "# 2. Using the pow() Function\n",
        "The pow() function is a built-in Python function for exponentiation. It also supports a modular operation.\n",
        "\n",
        "pow(base, exponent, mod=None)"
      ],
      "metadata": {
        "id": "pPupiju2sdcm"
      }
    },
    {
      "cell_type": "code",
      "source": [
        "# Basic exponentiation\n",
        "result = pow(2, 3)  # 2 raised to the power of 3\n",
        "print(result)  # Output: 8\n",
        "\n",
        "# Modular exponentiation\n",
        "mod_result = pow(2, 3, 3)  # (2 ** 3) % 3\n",
        "print(mod_result)  # Output: 2\n"
      ],
      "metadata": {
        "colab": {
          "base_uri": "https://localhost:8080/"
        },
        "id": "FKzh46zBsm18",
        "outputId": "47e7994d-db17-4308-f848-eb366571d8fb"
      },
      "execution_count": 2,
      "outputs": [
        {
          "output_type": "stream",
          "name": "stdout",
          "text": [
            "8\n",
            "2\n"
          ]
        }
      ]
    },
    {
      "cell_type": "markdown",
      "source": [
        "# 3. Using the math.pow() Function\n",
        "The math.pow() function is part of the math module and always returns a floating-point result, even if the inputs are integers.\n",
        "\n",
        "Syntax:\n",
        "\n",
        "python\n",
        "math.pow(base, exponent)"
      ],
      "metadata": {
        "id": "zxx93Jm0s5RK"
      }
    },
    {
      "cell_type": "code",
      "source": [
        "import math\n",
        "\n",
        "result = math.pow(2, 3)  # 2 raised to the power of 3\n",
        "print(result)  # Output: 8.0\n"
      ],
      "metadata": {
        "colab": {
          "base_uri": "https://localhost:8080/"
        },
        "id": "-a8FJ7sus7-1",
        "outputId": "ee3f2492-f6e1-4885-c8b1-976c669b6aed"
      },
      "execution_count": 3,
      "outputs": [
        {
          "output_type": "stream",
          "name": "stdout",
          "text": [
            "8.0\n"
          ]
        }
      ]
    },
    {
      "cell_type": "markdown",
      "source": [
        "# 4. Using numpy.power()\n",
        "If you are working with arrays or need advanced numerical operations, you can use numpy.power() from the numpy library.\n",
        "\n",
        "Syntax:\n",
        "numpy.power(base, exponent)"
      ],
      "metadata": {
        "id": "c47RCgcqtEBu"
      }
    },
    {
      "cell_type": "code",
      "source": [
        "import numpy as np\n",
        "\n",
        "# Element-wise exponentiation for arrays\n",
        "result = np.power([1, 2, 3], 3)\n",
        "print(result)  # Output: [ 1  8 27]\n"
      ],
      "metadata": {
        "colab": {
          "base_uri": "https://localhost:8080/"
        },
        "id": "qDf1QriTtHRR",
        "outputId": "09fcf288-12bf-46fb-e50f-30bdd43fcde6"
      },
      "execution_count": 4,
      "outputs": [
        {
          "output_type": "stream",
          "name": "stdout",
          "text": [
            "[ 1  8 27]\n"
          ]
        }
      ]
    }
  ]
}