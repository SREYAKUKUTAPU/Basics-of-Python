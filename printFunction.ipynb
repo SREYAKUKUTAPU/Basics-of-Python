{
  "nbformat": 4,
  "nbformat_minor": 0,
  "metadata": {
    "colab": {
      "provenance": [],
      "authorship_tag": "ABX9TyN9lA21xPoytV91pi4d1uJ5",
      "include_colab_link": true
    },
    "kernelspec": {
      "name": "python3",
      "display_name": "Python 3"
    },
    "language_info": {
      "name": "python"
    }
  },
  "cells": [
    {
      "cell_type": "markdown",
      "metadata": {
        "id": "view-in-github",
        "colab_type": "text"
      },
      "source": [
        "<a href=\"https://colab.research.google.com/github/SREYAKUKUTAPU/Basics-of-Python/blob/main/printFunction.ipynb\" target=\"_parent\"><img src=\"https://colab.research.google.com/assets/colab-badge.svg\" alt=\"Open In Colab\"/></a>"
      ]
    },
    {
      "cell_type": "markdown",
      "source": [
        "# printing multiple values using print function"
      ],
      "metadata": {
        "id": "cAKp5SLlR9SU"
      }
    },
    {
      "cell_type": "code",
      "execution_count": null,
      "metadata": {
        "colab": {
          "base_uri": "https://localhost:8080/"
        },
        "id": "Dos7Pcu6RP1U",
        "outputId": "f64ce628-ce1d-4cc9-d7dc-58b31588f471"
      },
      "outputs": [
        {
          "output_type": "stream",
          "name": "stdout",
          "text": [
            "Sreya Kukutapu 2002\n"
          ]
        }
      ],
      "source": [
        "print(\"Sreya\",\"Kukutapu\",2002)"
      ]
    },
    {
      "cell_type": "markdown",
      "source": [
        "# default separator and end"
      ],
      "metadata": {
        "id": "zd4PzvqWTFRM"
      }
    },
    {
      "cell_type": "code",
      "source": [
        "#default separator is space (' ') and ends with new line ('\\n')\n",
        "\n",
        "help(\"print\")\n",
        "\n",
        "# print(\"hello\")\n",
        "# print(\"world\")"
      ],
      "metadata": {
        "colab": {
          "base_uri": "https://localhost:8080/"
        },
        "id": "lCmdgQpYShaZ",
        "outputId": "afbbb7c8-1bdc-4df8-8e47-e653e74d03eb"
      },
      "execution_count": null,
      "outputs": [
        {
          "output_type": "stream",
          "name": "stdout",
          "text": [
            "Help on built-in function print in module builtins:\n",
            "\n",
            "print(...)\n",
            "    print(value, ..., sep=' ', end='\\n', file=sys.stdout, flush=False)\n",
            "    \n",
            "    Prints the values to a stream, or to sys.stdout by default.\n",
            "    Optional keyword arguments:\n",
            "    file:  a file-like object (stream); defaults to the current sys.stdout.\n",
            "    sep:   string inserted between values, default a space.\n",
            "    end:   string appended after the last value, default a newline.\n",
            "    flush: whether to forcibly flush the stream.\n",
            "\n",
            "hello\n",
            "world\n"
          ]
        }
      ]
    },
    {
      "cell_type": "markdown",
      "source": [
        "# overwriting default properties"
      ],
      "metadata": {
        "id": "ohBJbrqSTjjT"
      }
    },
    {
      "cell_type": "code",
      "source": [
        "print(\"Sreya\",\"Kukutapu\",2002) # default sep is space"
      ],
      "metadata": {
        "colab": {
          "base_uri": "https://localhost:8080/"
        },
        "id": "GgZf42FqTQgH",
        "outputId": "42c4f506-3273-4886-906b-5201018c898e"
      },
      "execution_count": null,
      "outputs": [
        {
          "output_type": "stream",
          "name": "stdout",
          "text": [
            "Sreya Kukutapu 2002\n"
          ]
        }
      ]
    },
    {
      "cell_type": "code",
      "source": [
        "print(\"Sreya\",\"Kukutapu\",2002, sep =\",\") # changing sep to comma\n",
        "print(\"Sreya\",\"Kukutapu\",2002,sep=\"\\n\") # changing sep to new line"
      ],
      "metadata": {
        "colab": {
          "base_uri": "https://localhost:8080/"
        },
        "id": "oOIRzifBT0T_",
        "outputId": "a51938dc-1ca7-41dc-da27-4f0a44d5d2cf"
      },
      "execution_count": null,
      "outputs": [
        {
          "output_type": "stream",
          "name": "stdout",
          "text": [
            "Sreya,Kukutapu,2002\n",
            "Sreya\n",
            "Kukutapu\n",
            "2002\n"
          ]
        }
      ]
    },
    {
      "cell_type": "code",
      "source": [
        "print(\"Sreya\",\"Kukutapu\",2002)\n",
        "print(\"Minny\",\"Kukutapu\",2002)  #default end=\"\\n\"\n",
        "\n",
        "print(\"Sreya\",\"Kukutapu\",2002,end=\"\\t\") #changing the end\n",
        "print(\"Minny\",\"Kukutapu\",2002)\n",
        "\n",
        "print(\"Sreya\",\"Kukutapu\",2002,end=\"xx\") #changing the end\n",
        "print(\"Minny\",\"Kukutapu\",2002)"
      ],
      "metadata": {
        "colab": {
          "base_uri": "https://localhost:8080/"
        },
        "id": "gKKmWnoHU5CS",
        "outputId": "2bdf74d5-be37-4ed5-b1dc-00f006ccad4c"
      },
      "execution_count": null,
      "outputs": [
        {
          "output_type": "stream",
          "name": "stdout",
          "text": [
            "Sreya Kukutapu 2002\n",
            "Minny Kukutapu 2002\n",
            "Sreya Kukutapu 2002\tMinny Kukutapu 2002\n",
            "Sreya Kukutapu 2002xxMinny Kukutapu 2002\n"
          ]
        }
      ]
    }
  ]
}