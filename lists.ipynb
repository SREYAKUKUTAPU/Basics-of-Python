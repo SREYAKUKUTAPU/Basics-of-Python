{
  "nbformat": 4,
  "nbformat_minor": 0,
  "metadata": {
    "colab": {
      "provenance": [],
      "authorship_tag": "ABX9TyP7R16K2ROJJVa0icqsnlD6",
      "include_colab_link": true
    },
    "kernelspec": {
      "name": "python3",
      "display_name": "Python 3"
    },
    "language_info": {
      "name": "python"
    }
  },
  "cells": [
    {
      "cell_type": "markdown",
      "metadata": {
        "id": "view-in-github",
        "colab_type": "text"
      },
      "source": [
        "<a href=\"https://colab.research.google.com/github/SREYAKUKUTAPU/Basics-of-Python/blob/main/lists.ipynb\" target=\"_parent\"><img src=\"https://colab.research.google.com/assets/colab-badge.svg\" alt=\"Open In Colab\"/></a>"
      ]
    },
    {
      "cell_type": "markdown",
      "source": [
        "# Introduction"
      ],
      "metadata": {
        "id": "S4HgbLSmCVz8"
      }
    },
    {
      "cell_type": "code",
      "execution_count": 3,
      "metadata": {
        "colab": {
          "base_uri": "https://localhost:8080/"
        },
        "id": "t8eGuayq-KnL",
        "outputId": "7cd452e3-6dc5-482f-bff0-d1939b9f8349"
      },
      "outputs": [
        {
          "output_type": "stream",
          "name": "stdout",
          "text": [
            "<class 'list'>\n",
            "<class 'list'>\n"
          ]
        }
      ],
      "source": [
        "#initialization\n",
        "data=['a','b']\n",
        "print(type(data))\n",
        "data=list(('a','b'))\n",
        "print(type(data))\n"
      ]
    },
    {
      "cell_type": "code",
      "source": [
        "#len()\n",
        "length=len(data)\n",
        "print(length)"
      ],
      "metadata": {
        "colab": {
          "base_uri": "https://localhost:8080/"
        },
        "id": "DfKu4rf__uBJ",
        "outputId": "04aa4fe8-ff22-442a-dac4-2286c78d278d"
      },
      "execution_count": 4,
      "outputs": [
        {
          "output_type": "stream",
          "name": "stdout",
          "text": [
            "2\n"
          ]
        }
      ]
    },
    {
      "cell_type": "code",
      "source": [
        "#accessing\n",
        "print(data[0])\n",
        "print(data[-1])"
      ],
      "metadata": {
        "colab": {
          "base_uri": "https://localhost:8080/"
        },
        "id": "-87agyZ6_41_",
        "outputId": "7ec406bd-74c3-49d6-f27d-feea5c4b4940"
      },
      "execution_count": 5,
      "outputs": [
        {
          "output_type": "stream",
          "name": "stdout",
          "text": [
            "a\n",
            "b\n"
          ]
        }
      ]
    },
    {
      "cell_type": "code",
      "source": [
        "#mutability: lists are mutable\n",
        "data=['a','b']\n",
        "print(id(data))\n",
        "\n",
        "# updating the value at index 1\n",
        "data[1]='c'\n",
        "print(id(data)) # address remains same, i.e., mutable\n",
        "\n",
        "#strings are immutable\n",
        "name=\"Sreya\"\n",
        "print(name[0])\n",
        "# name[0]=\"s\"\n",
        "# print(name)"
      ],
      "metadata": {
        "colab": {
          "base_uri": "https://localhost:8080/"
        },
        "id": "DgKG7E2ZAQFJ",
        "outputId": "55b1efbb-ed93-4d50-da61-7f0426060e4c"
      },
      "execution_count": 9,
      "outputs": [
        {
          "output_type": "stream",
          "name": "stdout",
          "text": [
            "135913673065984\n",
            "135913673065984\n",
            "S\n"
          ]
        }
      ]
    },
    {
      "cell_type": "code",
      "source": [
        "#lists are iterable\n",
        "for i in data:\n",
        "    print(i)"
      ],
      "metadata": {
        "colab": {
          "base_uri": "https://localhost:8080/"
        },
        "id": "QrgDsbYTCEer",
        "outputId": "96023c6b-6fbb-4cf6-8266-4b3e242df441"
      },
      "execution_count": 10,
      "outputs": [
        {
          "output_type": "stream",
          "name": "stdout",
          "text": [
            "a\n",
            "c\n"
          ]
        }
      ]
    },
    {
      "cell_type": "markdown",
      "source": [
        "# List slicing"
      ],
      "metadata": {
        "id": "6aPe4gkfCZJ1"
      }
    },
    {
      "cell_type": "code",
      "source": [
        "data=['sreya','kukutapu','female','employee','Telangana']\n",
        "print(data[::]) #complete list. By default: start=0,end=len(obj),step=1\n",
        "print(data[::-1]) #reverse\n",
        "print(data[0:len(data):2])\n"
      ],
      "metadata": {
        "colab": {
          "base_uri": "https://localhost:8080/"
        },
        "id": "Xdg9WjWnCcVr",
        "outputId": "24220f91-b33d-4c9e-db18-b2049b98ba19"
      },
      "execution_count": 12,
      "outputs": [
        {
          "output_type": "stream",
          "name": "stdout",
          "text": [
            "['sreya', 'kukutapu', 'female', 'employee', 'Telangana']\n",
            "['Telangana', 'employee', 'female', 'kukutapu', 'sreya']\n",
            "['sreya', 'female', 'Telangana']\n"
          ]
        }
      ]
    },
    {
      "cell_type": "markdown",
      "source": [
        "# Inbuilt methods"
      ],
      "metadata": {
        "id": "_JogOTHMD2N2"
      }
    },
    {
      "cell_type": "code",
      "source": [
        "#count()\n",
        "\n",
        "fruits=['apple','orange','banana','apple']\n",
        "print(fruits.count('apple'))"
      ],
      "metadata": {
        "colab": {
          "base_uri": "https://localhost:8080/"
        },
        "id": "UK8YPeZfD5wL",
        "outputId": "becf15ea-8080-4c4f-8d39-4490a5229c9e"
      },
      "execution_count": 19,
      "outputs": [
        {
          "output_type": "stream",
          "name": "stdout",
          "text": [
            "2\n"
          ]
        }
      ]
    },
    {
      "cell_type": "code",
      "source": [
        "#index()\n",
        "\n",
        "print(fruits.index('orange'))"
      ],
      "metadata": {
        "colab": {
          "base_uri": "https://localhost:8080/"
        },
        "id": "87hqvhyQELF6",
        "outputId": "903f657d-3e81-47a5-eb35-bd117b2a4575"
      },
      "execution_count": 20,
      "outputs": [
        {
          "output_type": "stream",
          "name": "stdout",
          "text": [
            "1\n"
          ]
        }
      ]
    },
    {
      "cell_type": "code",
      "source": [
        "#pop():The pop() method is used to remove and return an element from a list.\n",
        "#By default (without any arguments), it removes and returns the last element.\n",
        "\n",
        "fruits.pop()\n",
        "print(fruits)\n",
        "\n",
        "fruits=['apple','orange','banana','apple']\n",
        "print(fruits.pop(1)) #removes and returns the element at index 1\n",
        "print(fruits)\n",
        "\n",
        "\n"
      ],
      "metadata": {
        "colab": {
          "base_uri": "https://localhost:8080/"
        },
        "id": "UD5KeSmSEUTf",
        "outputId": "14fed134-2808-4cd1-e985-8d0c9eb44e66"
      },
      "execution_count": 53,
      "outputs": [
        {
          "output_type": "stream",
          "name": "stdout",
          "text": [
            "['apple', 'banana']\n",
            "orange\n",
            "['apple', 'banana', 'apple']\n"
          ]
        }
      ]
    },
    {
      "cell_type": "code",
      "source": [
        "#remove(): removes first occurance\n",
        "\n",
        "fruits.remove('apple')\n",
        "print(fruits)"
      ],
      "metadata": {
        "colab": {
          "base_uri": "https://localhost:8080/"
        },
        "id": "Gcul53zvErJU",
        "outputId": "e97eb2fd-5502-4f9e-e39f-0f6cf8b10b25"
      },
      "execution_count": 22,
      "outputs": [
        {
          "output_type": "stream",
          "name": "stdout",
          "text": [
            "['orange', 'banana']\n"
          ]
        }
      ]
    },
    {
      "cell_type": "code",
      "source": [
        "#sort()\n",
        "fruits=['apple','orange','banana','apple']\n",
        "fruits.sort() # default order: ascending\n",
        "print(fruits)\n",
        "fruits.sort(reverse=True) #descending\n",
        "print(fruits)"
      ],
      "metadata": {
        "colab": {
          "base_uri": "https://localhost:8080/"
        },
        "id": "TD1M1u9oFMNv",
        "outputId": "7f42e487-4478-4662-bd47-58fbdb69d8b3"
      },
      "execution_count": 35,
      "outputs": [
        {
          "output_type": "stream",
          "name": "stdout",
          "text": [
            "['apple', 'apple', 'banana', 'orange']\n",
            "['orange', 'banana', 'apple', 'apple']\n"
          ]
        }
      ]
    },
    {
      "cell_type": "code",
      "source": [
        "#insert()\n",
        "fruits=['apple','orange','banana','apple']\n",
        "fruits.insert(1,'kiwi')\n",
        "print(fruits)"
      ],
      "metadata": {
        "colab": {
          "base_uri": "https://localhost:8080/"
        },
        "id": "JuVFfQ2pF5VP",
        "outputId": "5bc61d8e-cfda-45cf-d252-1403b735c6c0"
      },
      "execution_count": 36,
      "outputs": [
        {
          "output_type": "stream",
          "name": "stdout",
          "text": [
            "['apple', 'kiwi', 'orange', 'banana', 'apple']\n"
          ]
        }
      ]
    },
    {
      "cell_type": "code",
      "source": [
        "#append(): adds an element at the end\n",
        "fruits.append('mango')\n",
        "print(fruits)"
      ],
      "metadata": {
        "colab": {
          "base_uri": "https://localhost:8080/"
        },
        "id": "X2BMMAu8GG62",
        "outputId": "94ad3598-76d5-4f53-df37-4479f1252c22"
      },
      "execution_count": 37,
      "outputs": [
        {
          "output_type": "stream",
          "name": "stdout",
          "text": [
            "['apple', 'kiwi', 'orange', 'banana', 'apple', 'mango']\n"
          ]
        }
      ]
    },
    {
      "cell_type": "code",
      "source": [
        "#extend(): to combine two lists\n",
        "fruits1=['apple','orange','banana','apple']\n",
        "fruits2=['grapes','pineapple']\n",
        "fruits1.extend(fruits2)\n",
        "print(fruits1)"
      ],
      "metadata": {
        "colab": {
          "base_uri": "https://localhost:8080/"
        },
        "id": "I0cQYcLXGNPb",
        "outputId": "ab2a00ff-d327-4fde-c1ca-10a731839409"
      },
      "execution_count": 39,
      "outputs": [
        {
          "output_type": "stream",
          "name": "stdout",
          "text": [
            "['apple', 'orange', 'banana', 'apple', 'grapes', 'pineapple']\n"
          ]
        }
      ]
    },
    {
      "cell_type": "code",
      "source": [
        "#sum\n",
        "numbers=[1,2,3,4,5]\n",
        "print(sum(numbers))"
      ],
      "metadata": {
        "colab": {
          "base_uri": "https://localhost:8080/"
        },
        "id": "fLGo_iykLjyQ",
        "outputId": "91e3bd4a-2a8a-4a09-8497-30c5829fd273"
      },
      "execution_count": 50,
      "outputs": [
        {
          "output_type": "stream",
          "name": "stdout",
          "text": [
            "15\n"
          ]
        }
      ]
    },
    {
      "cell_type": "markdown",
      "source": [
        "# Heterogenous lists"
      ],
      "metadata": {
        "id": "ctz-cKZoHRwe"
      }
    },
    {
      "cell_type": "code",
      "source": [
        "details=['Sreya','Female',23,True]\n",
        "print(details)"
      ],
      "metadata": {
        "colab": {
          "base_uri": "https://localhost:8080/"
        },
        "id": "yP6h7AXuHW5i",
        "outputId": "366f97a3-b6ce-439d-d912-61949f38e806"
      },
      "execution_count": 40,
      "outputs": [
        {
          "output_type": "stream",
          "name": "stdout",
          "text": [
            "['Sreya', 'Female', 23, True]\n"
          ]
        }
      ]
    },
    {
      "cell_type": "markdown",
      "source": [
        "2D lists"
      ],
      "metadata": {
        "id": "fldZA3gRHkSh"
      }
    },
    {
      "cell_type": "code",
      "source": [
        "students_details=[['Sreya',2002],['Srija',1999]]\n",
        "print(students_details)\n",
        "print(students_details[0])\n",
        "print(students_details[0][0])\n",
        "print(students_details[0][1])\n",
        "print(students_details[1])\n",
        "print(students_details[1][0])\n",
        "print(students_details[1][1])\n",
        "print(students_details[-2][0])"
      ],
      "metadata": {
        "colab": {
          "base_uri": "https://localhost:8080/"
        },
        "id": "r3di4_gWHl_J",
        "outputId": "cc0918d2-1481-47d0-95f2-0dd0a2ec30be"
      },
      "execution_count": 44,
      "outputs": [
        {
          "output_type": "stream",
          "name": "stdout",
          "text": [
            "[['Sreya', 2002], ['Srija', 1999]]\n",
            "['Sreya', 2002]\n",
            "Sreya\n",
            "2002\n",
            "['Srija', 1999]\n",
            "Srija\n",
            "1999\n",
            "Sreya\n"
          ]
        }
      ]
    },
    {
      "cell_type": "code",
      "source": [
        "#iteration in 2D LISTs\n",
        "for student in students_details:\n",
        "    print(student)\n",
        "\n",
        "for student in students_details:\n",
        "    for detail in student:\n",
        "        print(detail)"
      ],
      "metadata": {
        "colab": {
          "base_uri": "https://localhost:8080/"
        },
        "id": "0cOTuIMgIc97",
        "outputId": "be05f64d-7f8d-4b7c-901f-bfa328932b1a"
      },
      "execution_count": 46,
      "outputs": [
        {
          "output_type": "stream",
          "name": "stdout",
          "text": [
            "['Sreya', 2002]\n",
            "['Srija', 1999]\n",
            "Sreya\n",
            "2002\n",
            "Srija\n",
            "1999\n"
          ]
        }
      ]
    },
    {
      "cell_type": "markdown",
      "source": [
        "#list comprehension:\n",
        "List comprehension provides a concise way to create lists. It consists of brackets containing an expression followed by a for clause, then zero or more for or if clauses.\n",
        "\n",
        "new_list = [expression for item in iterable if condition]"
      ],
      "metadata": {
        "id": "Kcz67KDdKNvh"
      }
    },
    {
      "cell_type": "code",
      "source": [
        "#Traditional Approach (using a for loop):\n",
        "\n",
        "squares = []\n",
        "for i in range(1, 11):\n",
        "    if i % 2 == 0:\n",
        "      squares.append(i**2)\n",
        "print(squares)\n"
      ],
      "metadata": {
        "colab": {
          "base_uri": "https://localhost:8080/"
        },
        "id": "dcxx6007IwwZ",
        "outputId": "7f0b8d17-a590-465e-b9c5-7bf335d796d6"
      },
      "execution_count": 48,
      "outputs": [
        {
          "output_type": "stream",
          "name": "stdout",
          "text": [
            "[4, 16, 36, 64, 100]\n"
          ]
        }
      ]
    },
    {
      "cell_type": "code",
      "source": [
        "# Using List Comprehension:\n",
        "\n",
        "squares=[i**2 for i in range(1,11) if i%2==0]\n",
        "print(squares)"
      ],
      "metadata": {
        "colab": {
          "base_uri": "https://localhost:8080/"
        },
        "id": "ex994IXSKfmW",
        "outputId": "ea843f87-255a-463b-8582-4bc55863781c"
      },
      "execution_count": 49,
      "outputs": [
        {
          "output_type": "stream",
          "name": "stdout",
          "text": [
            "[4, 16, 36, 64, 100]\n"
          ]
        }
      ]
    }
  ]
}