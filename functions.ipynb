{
  "nbformat": 4,
  "nbformat_minor": 0,
  "metadata": {
    "colab": {
      "provenance": [],
      "authorship_tag": "ABX9TyOURJ4f5Scv6AOc4AE92wkr",
      "include_colab_link": true
    },
    "kernelspec": {
      "name": "python3",
      "display_name": "Python 3"
    },
    "language_info": {
      "name": "python"
    }
  },
  "cells": [
    {
      "cell_type": "markdown",
      "metadata": {
        "id": "view-in-github",
        "colab_type": "text"
      },
      "source": [
        "<a href=\"https://colab.research.google.com/github/SREYAKUKUTAPU/Basics-of-Python/blob/main/functions.ipynb\" target=\"_parent\"><img src=\"https://colab.research.google.com/assets/colab-badge.svg\" alt=\"Open In Colab\"/></a>"
      ]
    },
    {
      "cell_type": "markdown",
      "source": [
        "Two types:\n",
        "1. User Defined\n",
        "2. built-in"
      ],
      "metadata": {
        "id": "1QaMgro5rJar"
      }
    },
    {
      "cell_type": "markdown",
      "source": [
        "#defining a empty function"
      ],
      "metadata": {
        "id": "EV2cbYkqsKpE"
      }
    },
    {
      "cell_type": "code",
      "execution_count": 5,
      "metadata": {
        "id": "6H2Na9ssrECv"
      },
      "outputs": [],
      "source": [
        "def function1():\n",
        "    pass       #to avoid a error\n"
      ]
    },
    {
      "cell_type": "markdown",
      "source": [
        "# defining and calling a function"
      ],
      "metadata": {
        "id": "HxMtVtXfsP9b"
      }
    },
    {
      "cell_type": "code",
      "source": [
        "def function1():\n",
        "    print(\"Hello you are in function 1\")\n",
        "\n",
        "#calling a function\n",
        "function1()"
      ],
      "metadata": {
        "colab": {
          "base_uri": "https://localhost:8080/"
        },
        "id": "N8qY2Fd_ruXb",
        "outputId": "fd19bffb-184b-4bd2-f558-a42fb8cf9ae3"
      },
      "execution_count": 6,
      "outputs": [
        {
          "output_type": "stream",
          "name": "stdout",
          "text": [
            "Hello you are in function 1\n"
          ]
        }
      ]
    },
    {
      "cell_type": "markdown",
      "source": [
        "# docstrings"
      ],
      "metadata": {
        "id": "2XH_ZAqysI-d"
      }
    },
    {
      "cell_type": "code",
      "source": [
        "def greet():\n",
        "  \"\"\"\n",
        "  This function greets to\n",
        "  the person when it is called\n",
        "  \"\"\"\n",
        "  print(\"Hello, World\")\n",
        "\n",
        "greet()"
      ],
      "metadata": {
        "colab": {
          "base_uri": "https://localhost:8080/"
        },
        "id": "TWzmJ488sg-v",
        "outputId": "b96f59e7-e221-4bfa-8618-307782959804"
      },
      "execution_count": 8,
      "outputs": [
        {
          "output_type": "stream",
          "name": "stdout",
          "text": [
            "Hello, World\n"
          ]
        }
      ]
    },
    {
      "cell_type": "markdown",
      "source": [
        "# parameters\n",
        "These are placeholders in a function\n",
        "\n",
        "When defining them we call them as Parameters\n",
        "\n",
        "When passing the actual values we call them as Arguments"
      ],
      "metadata": {
        "id": "jLyv_jA5s79d"
      }
    },
    {
      "cell_type": "code",
      "source": [
        "def add(a,b):  #a,b are parameters\n",
        "  return a+b\n",
        "\n",
        "sum=add(2,3) # positional arguments\n",
        "print(sum)\n",
        "sum=add(a=4,b=5) #kwargs\n",
        "print(sum)"
      ],
      "metadata": {
        "colab": {
          "base_uri": "https://localhost:8080/"
        },
        "id": "G6D34tmss67j",
        "outputId": "c6e4a5d6-02e1-4c43-fbc8-d0956a3c05b7"
      },
      "execution_count": 10,
      "outputs": [
        {
          "output_type": "stream",
          "name": "stdout",
          "text": [
            "5\n",
            "9\n"
          ]
        }
      ]
    },
    {
      "cell_type": "markdown",
      "source": [
        "#return\n",
        "\n",
        "A function call ends when return statement is executed\n",
        "\n",
        "It returns the expression back to the function\n",
        "\n",
        "The code after return statement are not executed\n",
        "\n",
        "if there no return value the the function returns None"
      ],
      "metadata": {
        "id": "mw459mhft5Jj"
      }
    },
    {
      "cell_type": "code",
      "source": [
        "def sub(a,b):\n",
        "  return a-b\n",
        "  print(\"hello\") #not executed\n",
        "\n",
        "diff=sub(5,2) #value is returned\n",
        "print(diff)\n",
        "\n",
        "def sub(a,b):\n",
        "  pass\n",
        "\n",
        "diff=sub(5,2)\n",
        "print(diff) #None is returned"
      ],
      "metadata": {
        "colab": {
          "base_uri": "https://localhost:8080/"
        },
        "id": "5h8OWXntt4nf",
        "outputId": "5c55d038-5e4a-4bd9-9ac3-8315790719f3"
      },
      "execution_count": 12,
      "outputs": [
        {
          "output_type": "stream",
          "name": "stdout",
          "text": [
            "3\n",
            "None\n"
          ]
        }
      ]
    },
    {
      "cell_type": "code",
      "source": [
        "#returning multiple value\n",
        "def add_sub(a,b):\n",
        "  return a+b,a-b\n",
        "\n",
        "sum,diff=add_sub(5,2)\n",
        "print(sum,diff)"
      ],
      "metadata": {
        "colab": {
          "base_uri": "https://localhost:8080/"
        },
        "id": "G1FXopphu9Ce",
        "outputId": "649213f3-2f8d-48f2-83cc-7f3392a81e55"
      },
      "execution_count": 13,
      "outputs": [
        {
          "output_type": "stream",
          "name": "stdout",
          "text": [
            "7 3\n"
          ]
        }
      ]
    },
    {
      "cell_type": "markdown",
      "source": [
        "# Scope of a variable\n",
        "\n",
        "Global: Can be accessed anywhere un a program\n",
        "\n",
        "Local: can only be used locally (inside a local where it is defined)"
      ],
      "metadata": {
        "id": "NQrnhKZHvPIZ"
      }
    },
    {
      "cell_type": "code",
      "source": [
        "# Global variable\n",
        "global_var = 10\n",
        "\n",
        "def my_function():\n",
        "  # Local variable\n",
        "  local_var = 5\n",
        "  print(\"Local variable:\", local_var)  # Accessing local variable\n",
        "  print(\"Global variable:\", global_var)  # Accessing global variable\n",
        "\n",
        "my_function()\n",
        "print(\"Global variable:\", global_var)  # Accessing global variable outside the function\n",
        "# print(\"Local variable:\", local_var)  # This will raise an error because local_var is not accessible outside the function\n"
      ],
      "metadata": {
        "colab": {
          "base_uri": "https://localhost:8080/"
        },
        "id": "BjMXT62PvOmR",
        "outputId": "90509bcb-81ed-44f4-a68c-91371d153ede"
      },
      "execution_count": 14,
      "outputs": [
        {
          "output_type": "stream",
          "name": "stdout",
          "text": [
            "Local variable: 5\n",
            "Global variable: 10\n",
            "Global variable: 10\n"
          ]
        }
      ]
    },
    {
      "cell_type": "markdown",
      "source": [
        "Lambda Function: These are  mainly used when we need nameless functions for a short period time (Anonymous Function)\n",
        "\n",
        "lamda arg1,arg2:exp (it can have 'n' no of arguments but it should only one expr)"
      ],
      "metadata": {
        "id": "6jy8j78uwvCf"
      }
    },
    {
      "cell_type": "code",
      "source": [
        "(lambda a,b:a+b)(2,3)"
      ],
      "metadata": {
        "colab": {
          "base_uri": "https://localhost:8080/"
        },
        "id": "9NWoIJ8BxCpI",
        "outputId": "128f68b5-0f6f-4e59-9d11-ec6f1ee5aca6"
      },
      "execution_count": 15,
      "outputs": [
        {
          "output_type": "execute_result",
          "data": {
            "text/plain": [
              "5"
            ]
          },
          "metadata": {},
          "execution_count": 15
        }
      ]
    },
    {
      "cell_type": "code",
      "source": [
        "add=(lambda a,b:a+b)"
      ],
      "metadata": {
        "id": "E1ZwpQlOxPvr"
      },
      "execution_count": 17,
      "outputs": []
    },
    {
      "cell_type": "code",
      "source": [
        "print(add(2,3))"
      ],
      "metadata": {
        "colab": {
          "base_uri": "https://localhost:8080/"
        },
        "id": "oS4IhNs1xPsg",
        "outputId": "b9a57859-b070-4744-d72f-ec488b114554"
      },
      "execution_count": 16,
      "outputs": [
        {
          "output_type": "stream",
          "name": "stdout",
          "text": [
            "5\n"
          ]
        }
      ]
    },
    {
      "cell_type": "code",
      "source": [
        "function=(lambda x,y: x if x>y else y)\n",
        "largest=function(2,3)\n",
        "print(largest)"
      ],
      "metadata": {
        "colab": {
          "base_uri": "https://localhost:8080/"
        },
        "id": "hAJLiMtNxbN7",
        "outputId": "5b479a73-0a87-4c8f-d1b2-d7d03f785bbc"
      },
      "execution_count": 19,
      "outputs": [
        {
          "output_type": "stream",
          "name": "stdout",
          "text": [
            "3\n"
          ]
        }
      ]
    },
    {
      "cell_type": "code",
      "source": [
        "#sorting based on a key\n",
        "list=[(14,1),(3,55),(86,12)]\n",
        "list.sort() # by default sort order is based zeroth index\n",
        "print(list)\n",
        "def k(x):\n",
        "  return x[1]\n",
        "\n",
        "list.sort(key=k) #changed the sort order based on 1st element\n",
        "print(list)\n",
        "\n",
        "list.sort(key=lambda x:x[1]) #changed the sort order based on 1st element\n",
        "print(list)\n",
        "\n"
      ],
      "metadata": {
        "colab": {
          "base_uri": "https://localhost:8080/"
        },
        "id": "Ikd_P5Goym-m",
        "outputId": "7f4cccab-42e2-4950-8797-c708b5912520"
      },
      "execution_count": 21,
      "outputs": [
        {
          "output_type": "stream",
          "name": "stdout",
          "text": [
            "[(3, 55), (14, 1), (86, 12)]\n",
            "[(14, 1), (86, 12), (3, 55)]\n"
          ]
        }
      ]
    },
    {
      "cell_type": "markdown",
      "source": [
        "# Positional arguments\n",
        "are values passed to a function in a specific order, corresponding to the function's parameter order."
      ],
      "metadata": {
        "id": "h1-9Ltmd185J"
      }
    },
    {
      "cell_type": "code",
      "source": [
        "def greet(name, greeting): print(f\"{greeting}, {name}!\")\n",
        "\n",
        "greet(\"Alice\", \"Hello\")  # Output: Hello, Alice!"
      ],
      "metadata": {
        "colab": {
          "base_uri": "https://localhost:8080/"
        },
        "id": "e3_snLZG1Jal",
        "outputId": "eb48c37d-b121-4370-c130-254068aa3ae6"
      },
      "execution_count": 22,
      "outputs": [
        {
          "output_type": "stream",
          "name": "stdout",
          "text": [
            "Hello, Alice!\n"
          ]
        }
      ]
    },
    {
      "cell_type": "markdown",
      "source": [
        "# Default arguments"
      ],
      "metadata": {
        "id": "nIkFhAlS2EhF"
      }
    },
    {
      "cell_type": "code",
      "source": [
        "def greet(name, greeting=\"Hello\"):\n",
        "  print(f\"{greeting}, {name}!\")\n",
        "\n",
        "greet(\"Alice\")  # Output: Hello, Alice!\n",
        "greet(\"Bob\", \"Hi\")  # Output: Hi, Bob!"
      ],
      "metadata": {
        "colab": {
          "base_uri": "https://localhost:8080/"
        },
        "id": "eDqqS7x_2SI3",
        "outputId": "adab533b-6758-4b5c-a851-470b81eac959"
      },
      "execution_count": 23,
      "outputs": [
        {
          "output_type": "stream",
          "name": "stdout",
          "text": [
            "Hello, Alice!\n",
            "Hi, Bob!\n"
          ]
        }
      ]
    },
    {
      "cell_type": "markdown",
      "source": [
        "# non-default arguments come before default arguments."
      ],
      "metadata": {
        "id": "RyA7rZfZ2vlu"
      }
    },
    {
      "cell_type": "code",
      "source": [
        "def my_function(a, c, b=10):  # Correct: non-default arguments 'a' and 'c' come before default argument 'b'\n",
        "    print(a, b, c)"
      ],
      "metadata": {
        "id": "6CdXDUO-2uQF"
      },
      "execution_count": 24,
      "outputs": []
    },
    {
      "cell_type": "markdown",
      "source": [
        "#Keyword Arguments (kwargs):\n",
        "\n",
        "Keyword arguments are passed to a function using the name=value syntax. They allow you to specify arguments by name, making your code more readable and flexible."
      ],
      "metadata": {
        "id": "pBVFwmB73wbt"
      }
    },
    {
      "cell_type": "code",
      "source": [
        "def greet(name, greeting=\"Hello\"):\n",
        "  print(f\"{greeting}, {name}!\")\n",
        "\n",
        "greet(name=\"Alice\", greeting=\"Hi\")  # Output: Hi, Alice!\n",
        "greet(greeting=\"Hey\", name=\"Bob\")  # Output: Hey, Bob!"
      ],
      "metadata": {
        "colab": {
          "base_uri": "https://localhost:8080/"
        },
        "id": "z8xHZ_dp3zFK",
        "outputId": "95453bb6-7fcc-43f4-e6c0-2a52796aa24f"
      },
      "execution_count": 26,
      "outputs": [
        {
          "output_type": "stream",
          "name": "stdout",
          "text": [
            "Hi, Alice!\n",
            "Hey, Bob!\n"
          ]
        }
      ]
    },
    {
      "cell_type": "markdown",
      "source": [
        "# Arbitrary Arguments:\n",
        "\n",
        "Arbitrary arguments allow you to pass a varying number of positional or keyword arguments to a function. They are useful when you don't know in advance how many arguments will be passed."
      ],
      "metadata": {
        "id": "SEjZXw-t3PaC"
      }
    },
    {
      "cell_type": "code",
      "source": [
        "def my_function(*args, **kwargs): #**args should be defined first\n",
        "  print(\"Positional arguments:\", args)\n",
        "  print(\"Keyword arguments:\", kwargs)\n",
        "\n",
        "my_function(1, 2, 3, name=\"Alice\", age=30)"
      ],
      "metadata": {
        "colab": {
          "base_uri": "https://localhost:8080/"
        },
        "id": "ujso_4T-3R1d",
        "outputId": "e892c84e-4c6a-4973-a11f-97d9ade72a46"
      },
      "execution_count": 25,
      "outputs": [
        {
          "output_type": "stream",
          "name": "stdout",
          "text": [
            "Positional arguments: (1, 2, 3)\n",
            "Keyword arguments: {'name': 'Alice', 'age': 30}\n"
          ]
        }
      ]
    }
  ]
}