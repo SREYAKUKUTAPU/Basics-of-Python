{
  "nbformat": 4,
  "nbformat_minor": 0,
  "metadata": {
    "colab": {
      "provenance": [],
      "collapsed_sections": [
        "jeBAEe0d7uMJ",
        "tCU0e8jb8Q9M",
        "pIsKi9nFAjn0",
        "2Pz-oqlIAiK3",
        "WgSG4YJnEVLu"
      ],
      "authorship_tag": "ABX9TyNZ1WqeWLqM+s8tbNIxwRWt",
      "include_colab_link": true
    },
    "kernelspec": {
      "name": "python3",
      "display_name": "Python 3"
    },
    "language_info": {
      "name": "python"
    }
  },
  "cells": [
    {
      "cell_type": "markdown",
      "metadata": {
        "id": "view-in-github",
        "colab_type": "text"
      },
      "source": [
        "<a href=\"https://colab.research.google.com/github/SREYAKUKUTAPU/Basics-of-Python/blob/main/pythonFundamentals.ipynb\" target=\"_parent\"><img src=\"https://colab.research.google.com/assets/colab-badge.svg\" alt=\"Open In Colab\"/></a>"
      ]
    },
    {
      "cell_type": "markdown",
      "source": [
        "# Hello World"
      ],
      "metadata": {
        "id": "jeBAEe0d7uMJ"
      }
    },
    {
      "cell_type": "code",
      "execution_count": null,
      "metadata": {
        "colab": {
          "base_uri": "https://localhost:8080/"
        },
        "id": "Y3FwZpl36QJ8",
        "outputId": "d979b82c-6e62-4b84-8ef5-def39b36cdfe"
      },
      "outputs": [
        {
          "output_type": "stream",
          "name": "stdout",
          "text": [
            "Hello World!\n"
          ]
        }
      ],
      "source": [
        "print('Hello World!')"
      ]
    },
    {
      "cell_type": "markdown",
      "source": [
        "# Variables"
      ],
      "metadata": {
        "id": "tCU0e8jb8Q9M"
      }
    },
    {
      "cell_type": "code",
      "source": [
        "salary=1000\n",
        "bonus=100\n",
        "total_salary=salary+bonus\n",
        "print(total_salary)"
      ],
      "metadata": {
        "colab": {
          "base_uri": "https://localhost:8080/"
        },
        "id": "gLw3wayR8lX8",
        "outputId": "55735906-2dfb-4213-8f4b-229f3d9c2004"
      },
      "execution_count": null,
      "outputs": [
        {
          "output_type": "stream",
          "name": "stdout",
          "text": [
            "1100\n"
          ]
        }
      ]
    },
    {
      "cell_type": "markdown",
      "source": [
        "Variable names are case-sensitive"
      ],
      "metadata": {
        "id": "yRQ-U24J804T"
      }
    },
    {
      "cell_type": "code",
      "source": [
        "age=22\n",
        "Age=23\n",
        "print(age)\n",
        "print(Age)"
      ],
      "metadata": {
        "colab": {
          "base_uri": "https://localhost:8080/"
        },
        "id": "j4hcHoxK89zV",
        "outputId": "03996c87-e5f2-4270-fdcd-7c2dd77edf66"
      },
      "execution_count": null,
      "outputs": [
        {
          "output_type": "stream",
          "name": "stdout",
          "text": [
            "22\n",
            "23\n"
          ]
        }
      ]
    },
    {
      "cell_type": "markdown",
      "source": [
        "Keywords cannot be used as identifiers"
      ],
      "metadata": {
        "id": "c0xPEELv9bIU"
      }
    },
    {
      "cell_type": "code",
      "source": [
        "#list of keywords\n",
        "help('keywords')"
      ],
      "metadata": {
        "colab": {
          "base_uri": "https://localhost:8080/"
        },
        "id": "FCx-RYNV9hDL",
        "outputId": "e79fb0e9-0a6f-4e16-e3da-97b0fdd23a4c"
      },
      "execution_count": null,
      "outputs": [
        {
          "output_type": "stream",
          "name": "stdout",
          "text": [
            "\n",
            "Here is a list of the Python keywords.  Enter any keyword to get more help.\n",
            "\n",
            "False               class               from                or\n",
            "None                continue            global              pass\n",
            "True                def                 if                  raise\n",
            "and                 del                 import              return\n",
            "as                  elif                in                  try\n",
            "assert              else                is                  while\n",
            "async               except              lambda              with\n",
            "await               finally             nonlocal            yield\n",
            "break               for                 not                 \n",
            "\n"
          ]
        }
      ]
    },
    {
      "cell_type": "code",
      "source": [
        "# class = 'xxx'\n",
        "# print(class) --> Throws an error"
      ],
      "metadata": {
        "id": "0qyYB3pl9rLo"
      },
      "execution_count": null,
      "outputs": []
    },
    {
      "cell_type": "markdown",
      "source": [
        "# Stack and Heap Memory"
      ],
      "metadata": {
        "id": "pIsKi9nFAjn0"
      }
    },
    {
      "cell_type": "markdown",
      "source": [
        "Stack: Stores local variables and function call information, including references (pointers) to objects on the heap. Operates in a LIFO manner.\n",
        "\n"
      ],
      "metadata": {
        "id": "mg-cp_XA-g7o"
      }
    },
    {
      "cell_type": "markdown",
      "source": [
        "Heap: Stores the actual data of objects (like lists, dictionaries, class instances) which are referenced by variables on the stack. Managed by Python's garbage collector."
      ],
      "metadata": {
        "id": "Vn__j3oUAOXC"
      }
    },
    {
      "cell_type": "markdown",
      "source": [
        "# id() function"
      ],
      "metadata": {
        "id": "2Pz-oqlIAiK3"
      }
    },
    {
      "cell_type": "markdown",
      "source": [
        "In Python, when you assign a value to a variable, it's stored in a memory location. Reassigning the variable with a different value, especially with immutable types like integers, often leads to Python allocating a new memory location.\n",
        "\n",
        "You can use the id() function to check a variable's memory address."
      ],
      "metadata": {
        "id": "3Lml6fHzBP3Q"
      }
    },
    {
      "cell_type": "code",
      "source": [
        "x=5\n",
        "print(id(x))\n",
        "x=6\n",
        "print(id(x))"
      ],
      "metadata": {
        "colab": {
          "base_uri": "https://localhost:8080/"
        },
        "id": "0Om9fOmqAqqo",
        "outputId": "ee7ee9b5-015f-447e-c88e-f08297d4a3a9"
      },
      "execution_count": null,
      "outputs": [
        {
          "output_type": "stream",
          "name": "stdout",
          "text": [
            "137898115318128\n",
            "137898115318160\n"
          ]
        }
      ]
    },
    {
      "cell_type": "markdown",
      "source": [
        "# Data Types in Python\n",
        "\n",
        "\n",
        "\n"
      ],
      "metadata": {
        "id": "WgSG4YJnEVLu"
      }
    },
    {
      "cell_type": "markdown",
      "source": [
        "Numeric Types:\n",
        "\n",
        "•\tInteger (int): Represents whole numbers, positive or negative, without decimals. For example: 10, -5, 0.\n",
        "\n",
        "•\tFloat (float): Represents numbers with decimal points. For example: 3.14, -2.5, 0.0.\n",
        "\n",
        "Text Type:\n",
        "\n",
        "•\tString (str): Represents a sequence of characters (text). Enclosed in single quotes ('...') or double quotes (\"...\"). For example: \"Hello\", 'Python'.\n",
        "\n",
        "Boolean Type:\n",
        "\n",
        "•\tBoolean (bool): Represents truth values, either True or False. Used in logical operations and conditions.\n",
        "\n",
        "Sequence Types:\n",
        "\n",
        "•\tList (list): An ordered, mutable (changeable) collection of items. Items can be of different data types. Enclosed in square brackets ([...]). For example: [1, 2, 3], ['apple', 'banana']. Tuple (tuple): Similar to lists, but immutable (unchangeable) once created. Enclosed in parentheses ((...)). For example: (1, 2, 3), ('red', 'green').\n",
        "\n",
        "Mapping Type:\n",
        "\n",
        "•\tDictionary (dict): A collection of key-value pairs. Keys are unique and used to access their corresponding values. Enclosed in curly braces ({...}). For example: {'name': 'Alice', 'age': 30}.\n",
        "\n",
        "Set Types:\n",
        "\n",
        "•\tSet (set): An unordered collection of unique items. Items can be of different data types. Enclosed in curly braces ({...}). For example: {1, 2, 3}, {'apple', 'banana'}.\n",
        "\n",
        "None Type:\n",
        "\n",
        "•\tNoneType (NoneType): Represents the absence of a value. Often used to indicate that a variable or function doesn't have a specific value assigned yet."
      ],
      "metadata": {
        "id": "0PUzlAzQHLl0"
      }
    },
    {
      "cell_type": "markdown",
      "source": [
        "# type() function\n",
        "\n",
        "type() returns the data type of an object."
      ],
      "metadata": {
        "id": "DP_5CdKfHPbT"
      }
    },
    {
      "cell_type": "code",
      "source": [
        "#integer\n",
        "a=20\n",
        "print(type(a))"
      ],
      "metadata": {
        "colab": {
          "base_uri": "https://localhost:8080/"
        },
        "id": "xgu-lX3WEUCH",
        "outputId": "1c315fe5-41bc-4ac9-d52e-0a50dda7e245"
      },
      "execution_count": null,
      "outputs": [
        {
          "output_type": "stream",
          "name": "stdout",
          "text": [
            "<class 'int'>\n"
          ]
        }
      ]
    },
    {
      "cell_type": "code",
      "source": [
        "#float\n",
        "price = 14.5\n",
        "print(type(price))"
      ],
      "metadata": {
        "colab": {
          "base_uri": "https://localhost:8080/"
        },
        "id": "qAhq_pdDITVs",
        "outputId": "1b136481-3e64-45f2-f1e2-23f42064ecaa"
      },
      "execution_count": null,
      "outputs": [
        {
          "output_type": "stream",
          "name": "stdout",
          "text": [
            "<class 'float'>\n"
          ]
        }
      ]
    },
    {
      "cell_type": "code",
      "source": [
        "#string\n",
        "\n",
        "#single line comments\n",
        "name = 'Sreya'\n",
        "print(name)\n",
        "name = \"Sreya\"\n",
        "print(name)\n",
        "name='''Sreya'''\n",
        "print(name)\n",
        "#multiline comments\n",
        "name=\"\"\"\n",
        "My name is Sreya\n",
        "\"\"\"\n",
        "print(name)\n",
        "print(type(name))\n",
        "print(type('a'))"
      ],
      "metadata": {
        "colab": {
          "base_uri": "https://localhost:8080/"
        },
        "id": "8H4SFsDxHtDy",
        "outputId": "69155815-c2f6-4ac2-8b2a-96fc96912568"
      },
      "execution_count": null,
      "outputs": [
        {
          "output_type": "stream",
          "name": "stdout",
          "text": [
            "Sreya\n",
            "Sreya\n",
            "Sreya\n",
            "\n",
            "My name is Sreya\n",
            "\n",
            "<class 'str'>\n",
            "<class 'str'>\n"
          ]
        }
      ]
    },
    {
      "cell_type": "code",
      "source": [
        "#boolean\n",
        "\n",
        "is_student = True\n",
        "print(is_student)\n",
        "print(type(is_student))\n",
        "\n",
        "is_employee = False\n",
        "print(is_employee)\n",
        "print(type(is_employee))\n"
      ],
      "metadata": {
        "colab": {
          "base_uri": "https://localhost:8080/"
        },
        "id": "uYpV4rPoH3ph",
        "outputId": "0b6e1f14-5187-42d4-eb2b-3e87ce46efc4"
      },
      "execution_count": null,
      "outputs": [
        {
          "output_type": "stream",
          "name": "stdout",
          "text": [
            "True\n",
            "<class 'bool'>\n",
            "False\n",
            "<class 'bool'>\n"
          ]
        }
      ]
    },
    {
      "cell_type": "code",
      "source": [
        "#list\n",
        "\n",
        "numbers = [1,2,3,4,5]\n",
        "print(numbers)\n",
        "print(type(numbers))\n"
      ],
      "metadata": {
        "colab": {
          "base_uri": "https://localhost:8080/"
        },
        "id": "czX3iq3YI0By",
        "outputId": "cd050865-a113-45c2-ab7f-387707784096"
      },
      "execution_count": null,
      "outputs": [
        {
          "output_type": "stream",
          "name": "stdout",
          "text": [
            "[1, 2, 3, 4, 5]\n",
            "<class 'list'>\n"
          ]
        }
      ]
    },
    {
      "cell_type": "code",
      "source": [
        "#tuple\n",
        "\n",
        "coordinates = (10,20)\n",
        "print(coordinates)\n",
        "print(type(coordinates))"
      ],
      "metadata": {
        "colab": {
          "base_uri": "https://localhost:8080/"
        },
        "id": "MburhX6aJAG-",
        "outputId": "c8179cbe-933c-42ab-9da9-d254c9042968"
      },
      "execution_count": null,
      "outputs": [
        {
          "output_type": "stream",
          "name": "stdout",
          "text": [
            "(10, 20)\n",
            "<class 'tuple'>\n"
          ]
        }
      ]
    },
    {
      "cell_type": "code",
      "source": [
        "#dictionary\n",
        "\n",
        "person = {'name': 'Sreya', 'age': 23}\n",
        "print(person)\n",
        "print(type(person))"
      ],
      "metadata": {
        "colab": {
          "base_uri": "https://localhost:8080/"
        },
        "id": "YEHM2pkyJJv8",
        "outputId": "8159a66b-d500-4cb9-9b24-a336f866b62b"
      },
      "execution_count": null,
      "outputs": [
        {
          "output_type": "stream",
          "name": "stdout",
          "text": [
            "{'name': 'Sreya', 'age': 23}\n",
            "<class 'dict'>\n"
          ]
        }
      ]
    },
    {
      "cell_type": "code",
      "source": [
        "#set\n",
        "\n",
        "marks = {90, 80, 70, 70}\n",
        "print(marks)\n",
        "print(type(marks))"
      ],
      "metadata": {
        "colab": {
          "base_uri": "https://localhost:8080/"
        },
        "id": "W4WleJHLJRwf",
        "outputId": "87161dd7-4cf4-4c87-a631-aab30a0a4989"
      },
      "execution_count": null,
      "outputs": [
        {
          "output_type": "stream",
          "name": "stdout",
          "text": [
            "{80, 90, 70}\n",
            "<class 'set'>\n"
          ]
        }
      ]
    },
    {
      "cell_type": "code",
      "source": [
        "#none\n",
        "\n",
        "value = None\n",
        "print(value)\n",
        "print(type(value))"
      ],
      "metadata": {
        "colab": {
          "base_uri": "https://localhost:8080/"
        },
        "id": "NBM5lirZKwmD",
        "outputId": "5b284e3c-1d18-41e7-fe7b-1991310abb18"
      },
      "execution_count": null,
      "outputs": [
        {
          "output_type": "stream",
          "name": "stdout",
          "text": [
            "None\n",
            "<class 'NoneType'>\n"
          ]
        }
      ]
    },
    {
      "cell_type": "markdown",
      "source": [
        "# input() function\n",
        "\n",
        "input() reads a line of text from the user's input and returns it as a string."
      ],
      "metadata": {
        "id": "eL-jcYqGMYrD"
      }
    },
    {
      "cell_type": "code",
      "source": [
        "name = input(\"Enter your name: \")\n",
        "print(\"Hello, \" + name + \"!\")"
      ],
      "metadata": {
        "colab": {
          "base_uri": "https://localhost:8080/"
        },
        "id": "LCAEFpVwMoDR",
        "outputId": "c146bd91-aa3b-466e-e610-f9447f4c55fb"
      },
      "execution_count": null,
      "outputs": [
        {
          "output_type": "stream",
          "name": "stdout",
          "text": [
            "Enter your name: Sreya\n",
            "Hello, Sreya!\n"
          ]
        }
      ]
    },
    {
      "cell_type": "code",
      "source": [
        "age=input(\"Enter your age: \")\n",
        "print(type(age))"
      ],
      "metadata": {
        "colab": {
          "base_uri": "https://localhost:8080/"
        },
        "id": "WaXbZvZfNn37",
        "outputId": "4a73755b-6fa1-46f7-99e5-3dbb346c6be3"
      },
      "execution_count": null,
      "outputs": [
        {
          "output_type": "stream",
          "name": "stdout",
          "text": [
            "Enter your age: 23\n",
            "<class 'str'>\n"
          ]
        }
      ]
    },
    {
      "cell_type": "markdown",
      "source": [
        "Type Conversion"
      ],
      "metadata": {
        "id": "ceOlEo4UNunv"
      }
    },
    {
      "cell_type": "code",
      "source": [
        "age=int(input(\"Enter your age: \"))\n",
        "print(type(age))"
      ],
      "metadata": {
        "colab": {
          "base_uri": "https://localhost:8080/"
        },
        "id": "6ucOFelvNyMi",
        "outputId": "ee57f476-4584-4639-e052-031bcac907b6"
      },
      "execution_count": null,
      "outputs": [
        {
          "output_type": "stream",
          "name": "stdout",
          "text": [
            "Enter your age: 23\n",
            "<class 'int'>\n"
          ]
        }
      ]
    },
    {
      "cell_type": "code",
      "source": [
        "price=float(input(\"Enter the price: \"))\n",
        "print(type(price))"
      ],
      "metadata": {
        "colab": {
          "base_uri": "https://localhost:8080/"
        },
        "id": "tuZSr7KUN-jG",
        "outputId": "92805031-93b1-4a23-ad20-ab481d2ea290"
      },
      "execution_count": null,
      "outputs": [
        {
          "output_type": "stream",
          "name": "stdout",
          "text": [
            "Enter the price: 4.55\n",
            "<class 'float'>\n"
          ]
        }
      ]
    },
    {
      "cell_type": "code",
      "source": [
        "age=12\n",
        "str_age=str(age) # integer to string\n",
        "print(str_age)\n",
        "print(type(str_age))\n",
        "\n",
        "price=12.5\n",
        "str_price=str(price) # float to string\n",
        "print(str_price)\n",
        "print(type(str_price))\n"
      ],
      "metadata": {
        "colab": {
          "base_uri": "https://localhost:8080/"
        },
        "id": "PntbuNXFOK-k",
        "outputId": "f5887d10-1d61-4ee4-8c75-ec31f48c866b"
      },
      "execution_count": null,
      "outputs": [
        {
          "output_type": "stream",
          "name": "stdout",
          "text": [
            "12\n",
            "<class 'str'>\n",
            "12.5\n",
            "<class 'str'>\n"
          ]
        }
      ]
    },
    {
      "cell_type": "code",
      "source": [
        "# string -> float -> integer\n",
        "price=\"12.5\"\n",
        "float_price=float(price)\n",
        "print(\"Price is \" + str(float_price) + \" and the type is \"+str(type(float_price)))\n",
        "\n",
        "int_price=int(float_price)\n",
        "print(\"Price is \" + str(int_price)+ \" and the type is \" + str(type(int_price)))"
      ],
      "metadata": {
        "colab": {
          "base_uri": "https://localhost:8080/"
        },
        "id": "p_YhhKqYPsp7",
        "outputId": "47251366-f809-4d87-c8be-f1f26eb6f9b3"
      },
      "execution_count": null,
      "outputs": [
        {
          "output_type": "stream",
          "name": "stdout",
          "text": [
            "Price is 12.5 and the type is <class 'float'>\n",
            "Price is 12 and the type is <class 'int'>\n"
          ]
        }
      ]
    }
  ]
}