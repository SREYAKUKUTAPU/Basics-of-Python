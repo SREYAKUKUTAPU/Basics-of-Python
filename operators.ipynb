{
  "nbformat": 4,
  "nbformat_minor": 0,
  "metadata": {
    "colab": {
      "provenance": [],
      "authorship_tag": "ABX9TyMspRa/Z7TjBPKAItiCntiP",
      "include_colab_link": true
    },
    "kernelspec": {
      "name": "python3",
      "display_name": "Python 3"
    },
    "language_info": {
      "name": "python"
    }
  },
  "cells": [
    {
      "cell_type": "markdown",
      "metadata": {
        "id": "view-in-github",
        "colab_type": "text"
      },
      "source": [
        "<a href=\"https://colab.research.google.com/github/SREYAKUKUTAPU/Basics-of-Python/blob/main/operators.ipynb\" target=\"_parent\"><img src=\"https://colab.research.google.com/assets/colab-badge.svg\" alt=\"Open In Colab\"/></a>"
      ]
    },
    {
      "cell_type": "markdown",
      "source": [
        "# Arithmetic Operators"
      ],
      "metadata": {
        "id": "klftzOdXOBJA"
      }
    },
    {
      "cell_type": "code",
      "source": [
        "a=6\n",
        "b=2"
      ],
      "metadata": {
        "id": "Vukejpu3OSbg"
      },
      "execution_count": null,
      "outputs": []
    },
    {
      "cell_type": "code",
      "execution_count": null,
      "metadata": {
        "colab": {
          "base_uri": "https://localhost:8080/"
        },
        "id": "vCIWalpSN-Ql",
        "outputId": "c5e1d576-b244-49dd-b581-75fbd5573f99"
      },
      "outputs": [
        {
          "output_type": "stream",
          "name": "stdout",
          "text": [
            "8\n",
            "Sreya Kukutapu\n",
            "11\n"
          ]
        }
      ],
      "source": [
        "# addition\n",
        "print(a+b)\n",
        "\n",
        "#string concat\n",
        "a=\"Sreya \"\n",
        "b=\"Kukutapu\"\n",
        "print(a+b)\n",
        "\n",
        "print(\"1\"+\"1\")\n"
      ]
    },
    {
      "cell_type": "code",
      "source": [
        "#sub\n",
        "a-b\n",
        "# print(c)"
      ],
      "metadata": {
        "colab": {
          "base_uri": "https://localhost:8080/"
        },
        "id": "QNnYZjumOU6H",
        "outputId": "964fe7aa-c76f-44b4-a0dc-3d6cd302bc14"
      },
      "execution_count": null,
      "outputs": [
        {
          "output_type": "execute_result",
          "data": {
            "text/plain": [
              "4"
            ]
          },
          "metadata": {},
          "execution_count": 24
        }
      ]
    },
    {
      "cell_type": "code",
      "source": [
        "#mul\n",
        "a*b\n",
        "# print(c)"
      ],
      "metadata": {
        "colab": {
          "base_uri": "https://localhost:8080/"
        },
        "id": "MNN1o5TrOi9D",
        "outputId": "98948335-f415-4f69-8bca-9ffdba6250fb"
      },
      "execution_count": null,
      "outputs": [
        {
          "output_type": "execute_result",
          "data": {
            "text/plain": [
              "12"
            ]
          },
          "metadata": {},
          "execution_count": 25
        }
      ]
    },
    {
      "cell_type": "code",
      "source": [
        "#div\n",
        "7/3"
      ],
      "metadata": {
        "colab": {
          "base_uri": "https://localhost:8080/"
        },
        "id": "gJtzxeRgOl8C",
        "outputId": "8a0326e9-4e72-4ec3-d4bb-bbb3f62c148b"
      },
      "execution_count": null,
      "outputs": [
        {
          "output_type": "execute_result",
          "data": {
            "text/plain": [
              "2.3333333333333335"
            ]
          },
          "metadata": {},
          "execution_count": 26
        }
      ]
    },
    {
      "cell_type": "code",
      "source": [
        "#mod\n",
        "c=7%3\n",
        "print(c)"
      ],
      "metadata": {
        "colab": {
          "base_uri": "https://localhost:8080/"
        },
        "id": "wkPbfT07Oo7x",
        "outputId": "59942cdc-3adb-4745-dfc6-e70632e1a42d"
      },
      "execution_count": null,
      "outputs": [
        {
          "output_type": "stream",
          "name": "stdout",
          "text": [
            "1\n"
          ]
        }
      ]
    },
    {
      "cell_type": "code",
      "source": [
        "#floor division: the result is floored to the nearest integer\n",
        "c=7//3\n",
        "print(c)"
      ],
      "metadata": {
        "colab": {
          "base_uri": "https://localhost:8080/"
        },
        "id": "wFCWrFkgOvKS",
        "outputId": "fb43f621-62d6-45a5-c533-ce1c5d629e41"
      },
      "execution_count": null,
      "outputs": [
        {
          "output_type": "stream",
          "name": "stdout",
          "text": [
            "2\n"
          ]
        }
      ]
    },
    {
      "cell_type": "code",
      "source": [
        "# Tothe power\n",
        "c=2**3\n",
        "print(c)"
      ],
      "metadata": {
        "colab": {
          "base_uri": "https://localhost:8080/"
        },
        "id": "ESTj-hTNPNPz",
        "outputId": "8c7ca95a-4001-4c8d-ea9b-5bf3908b48c7"
      },
      "execution_count": null,
      "outputs": [
        {
          "output_type": "stream",
          "name": "stdout",
          "text": [
            "8\n"
          ]
        }
      ]
    },
    {
      "cell_type": "markdown",
      "source": [
        "# comparison operators"
      ],
      "metadata": {
        "id": "CuhqTMG3RLxY"
      }
    },
    {
      "cell_type": "code",
      "source": [
        "# prompt: Comparison operators in python with example\n",
        "\n",
        "# # Arithmetic Operators\n",
        "a=6\n",
        "b=2\n",
        "\n",
        "# # comparison operators\n",
        "\n",
        "# Equal to (==)\n",
        "print(a == b)  # Output: False\n",
        "\n",
        "# Not equal to (!=)\n",
        "print(a != b)  # Output: True\n",
        "\n",
        "# Greater than (>)\n",
        "print(a > b)  # Output: True\n",
        "\n",
        "# Less than (<)\n",
        "print(a < b)  # Output: False\n",
        "\n",
        "# Greater than or equal to (>=)\n",
        "print(a >= b)  # Output: True\n",
        "\n",
        "# Less than or equal to (<=)\n",
        "print(a <= b)  # Output: False\n",
        "\n",
        "# Comparing strings\n",
        "str1 = \"hello\"\n",
        "str2 = \"world\"\n",
        "print(str1 == str2) # Output: False\n",
        "print(\"hello\"==\"hello\") # Output : True\n",
        "print(str1 < str2) # Output: True (lexicographical comparison)"
      ],
      "metadata": {
        "colab": {
          "base_uri": "https://localhost:8080/"
        },
        "id": "C_WKiZ6-RH3c",
        "outputId": "58559cd2-70dc-49fa-b3f5-c33834543192"
      },
      "execution_count": null,
      "outputs": [
        {
          "output_type": "stream",
          "name": "stdout",
          "text": [
            "False\n",
            "True\n",
            "True\n",
            "False\n",
            "True\n",
            "False\n",
            "False\n",
            "True\n",
            "True\n"
          ]
        }
      ]
    },
    {
      "cell_type": "markdown",
      "source": [
        "# Assignment operators"
      ],
      "metadata": {
        "id": "zDDnhwYjSjAu"
      }
    },
    {
      "cell_type": "code",
      "source": [
        "# prompt: assignment operators examples\n",
        "\n",
        "# Assignment operators\n",
        "\n",
        "# Basic assignment\n",
        "x = 10\n",
        "print(x)  # Output: 10\n",
        "\n",
        "# Add and assign (+=)\n",
        "x += 5  # Equivalent to x = x + 5\n",
        "print(x)  # Output: 15\n",
        "\n",
        "# Subtract and assign (-=)\n",
        "x -= 3  # Equivalent to x = x - 3\n",
        "print(x)  # Output: 12\n",
        "\n",
        "# Multiply and assign (*=)\n",
        "x *= 2  # Equivalent to x = x * 2\n",
        "print(x)  # Output: 24\n",
        "\n",
        "# Divide and assign (/=)\n",
        "x /= 4  # Equivalent to x = x / 4\n",
        "print(x)  # Output: 6.0\n",
        "\n",
        "# Modulo and assign (%=)\n",
        "x %= 3  # Equivalent to x = x % 3\n",
        "print(x)  # Output: 0.0\n",
        "\n",
        "# Floor divide and assign (//=)\n",
        "x = 10\n",
        "x //= 3  # Equivalent to x = x // 3\n",
        "print(x)  # Output: 3\n",
        "\n",
        "\n",
        "# Exponent and assign (**=)\n",
        "x = 2\n",
        "x **= 3  # Equivalent to x = x ** 3\n",
        "print(x)  # Output: 8"
      ],
      "metadata": {
        "colab": {
          "base_uri": "https://localhost:8080/"
        },
        "id": "bTtVXuYzQbu2",
        "outputId": "12c7ad20-0a04-4580-bab0-6bcd392737d2"
      },
      "execution_count": null,
      "outputs": [
        {
          "output_type": "stream",
          "name": "stdout",
          "text": [
            "10\n",
            "15\n",
            "12\n",
            "24\n",
            "6.0\n",
            "0.0\n",
            "3\n",
            "8\n"
          ]
        }
      ]
    },
    {
      "cell_type": "markdown",
      "source": [
        "# Logical Operators"
      ],
      "metadata": {
        "id": "VIFftTWESvNQ"
      }
    },
    {
      "cell_type": "code",
      "source": [
        "# prompt: logical operators example\n",
        "\n",
        "# Logical Operators\n",
        "\n",
        "# and (returns True if both operands are True)\n",
        "a = True\n",
        "b = False\n",
        "print(a and b)  # Output: False\n",
        "\n",
        "# or (returns True if at least one operand is True)\n",
        "print(a or b)  # Output: True\n",
        "\n",
        "# not (inverts the truth value of an operand)\n",
        "print(not a)  # Output: False\n",
        "\n",
        "# Examples with numbers (0 is considered False, other numbers are True)\n",
        "x = 5\n",
        "y = 0\n",
        "print(x and y)  # Output: 0 (y is False)\n",
        "print(x or y)  # Output: 5 (x is True)\n",
        "print(not x)  # Output: False (x is True, so not x is False)\n",
        "\n",
        "# Combining logical operators\n",
        "print((x > 0) and (y < 10)) # Output: True\n",
        "print((x < 0) or (y == 0))  # Output: True\n",
        "print(not (x == y)) #Output: True"
      ],
      "metadata": {
        "id": "tdqWcWlISfTX"
      },
      "execution_count": null,
      "outputs": []
    },
    {
      "cell_type": "markdown",
      "source": [
        "# Special Operators\n",
        "1. in operator (membership operator)\n",
        "2. is operator (tells if both the objects are at same memory location)"
      ],
      "metadata": {
        "id": "axy2DyYcTh9Z"
      }
    },
    {
      "cell_type": "code",
      "source": [
        "name=\"Sreya\"\n",
        "print(\"S\" in name)\n",
        "print(\"s\" in name)"
      ],
      "metadata": {
        "colab": {
          "base_uri": "https://localhost:8080/"
        },
        "id": "bIgpS1-aTtA8",
        "outputId": "6a267793-53c5-4458-dbaa-7c74d5af31fe"
      },
      "execution_count": null,
      "outputs": [
        {
          "output_type": "stream",
          "name": "stdout",
          "text": [
            "True\n",
            "False\n"
          ]
        }
      ]
    },
    {
      "cell_type": "code",
      "source": [
        "a=5\n",
        "b=5\n",
        "c=6\n",
        "print(id(a))\n",
        "print(id(b))\n",
        "print(id(c))\n",
        "print(a is b)\n",
        "print(b is c)"
      ],
      "metadata": {
        "colab": {
          "base_uri": "https://localhost:8080/"
        },
        "id": "wk4pyARRUL2z",
        "outputId": "977fcf88-fc57-4222-8022-fd08ad90a9b6"
      },
      "execution_count": null,
      "outputs": [
        {
          "output_type": "stream",
          "name": "stdout",
          "text": [
            "137425121640816\n",
            "137425121640816\n",
            "137425121640848\n",
            "True\n",
            "False\n"
          ]
        }
      ]
    },
    {
      "cell_type": "code",
      "source": [
        "print(0 or 1)"
      ],
      "metadata": {
        "id": "gpWN7sneX_oG",
        "outputId": "24c8d244-9b35-4865-d589-5ca35c84765d",
        "colab": {
          "base_uri": "https://localhost:8080/"
        }
      },
      "execution_count": null,
      "outputs": [
        {
          "output_type": "stream",
          "name": "stdout",
          "text": [
            "1\n"
          ]
        }
      ]
    }
  ]
}