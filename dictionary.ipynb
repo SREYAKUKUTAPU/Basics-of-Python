{
  "nbformat": 4,
  "nbformat_minor": 0,
  "metadata": {
    "colab": {
      "provenance": [],
      "authorship_tag": "ABX9TyOkwHVd3etBy/SWtNE5W2AP",
      "include_colab_link": true
    },
    "kernelspec": {
      "name": "python3",
      "display_name": "Python 3"
    },
    "language_info": {
      "name": "python"
    }
  },
  "cells": [
    {
      "cell_type": "markdown",
      "metadata": {
        "id": "view-in-github",
        "colab_type": "text"
      },
      "source": [
        "<a href=\"https://colab.research.google.com/github/SREYAKUKUTAPU/Basics-of-Python/blob/main/dictionary.ipynb\" target=\"_parent\"><img src=\"https://colab.research.google.com/assets/colab-badge.svg\" alt=\"Open In Colab\"/></a>"
      ]
    },
    {
      "cell_type": "markdown",
      "source": [
        "# Introduction"
      ],
      "metadata": {
        "id": "gzozpghJ-h2S"
      }
    },
    {
      "cell_type": "code",
      "source": [
        "#creating a dictionary\n",
        "data={'name':\"Sreya\",'age':23}\n",
        "print(data)\n",
        "\n",
        "data=dict(name=\"Sreya\",age=23)\n",
        "print(data)\n",
        "\n",
        "#zip method\n",
        "keys=['name','age']\n",
        "values=['Sreya',23]\n",
        "data=dict(zip(keys,values))\n",
        "print(data)"
      ],
      "metadata": {
        "colab": {
          "base_uri": "https://localhost:8080/"
        },
        "id": "0RqnbjU2_Q-V",
        "outputId": "92de86da-10b1-4645-d421-400315134db6"
      },
      "execution_count": 36,
      "outputs": [
        {
          "output_type": "stream",
          "name": "stdout",
          "text": [
            "{'name': 'Sreya', 'age': 23}\n",
            "{'name': 'Sreya', 'age': 23}\n",
            "{'name': 'Sreya', 'age': 23}\n"
          ]
        }
      ]
    },
    {
      "cell_type": "code",
      "execution_count": 37,
      "metadata": {
        "colab": {
          "base_uri": "https://localhost:8080/"
        },
        "id": "IVxw5vr3-P3N",
        "outputId": "c7fb3ce0-75ed-410a-cb05-af67909b9c27"
      },
      "outputs": [
        {
          "output_type": "stream",
          "name": "stdout",
          "text": [
            "{'name': 'Sreya', 'age': 23}\n"
          ]
        }
      ],
      "source": [
        "#key-value pair\n",
        "#ordered collection\n",
        "data={'name':\"Sreya\",'age':23}\n",
        "print(data)"
      ]
    },
    {
      "cell_type": "markdown",
      "source": [
        "# Accessing values"
      ],
      "metadata": {
        "id": "KQ7SoxLmAhPb"
      }
    },
    {
      "cell_type": "code",
      "source": [
        "#values are accessed using key (cannot be accessed using index)\n",
        "print(data[\"name\"])\n",
        "#get()\n",
        "print(data.get(\"name\"))\n",
        "\n",
        "print(data.get(\"dob\",\"Key is not available\"))"
      ],
      "metadata": {
        "colab": {
          "base_uri": "https://localhost:8080/"
        },
        "id": "gifBNecq-39J",
        "outputId": "d9a88de5-50dc-4c9b-f163-df88129e4d46"
      },
      "execution_count": 38,
      "outputs": [
        {
          "output_type": "stream",
          "name": "stdout",
          "text": [
            "Sreya\n",
            "Sreya\n",
            "Key is not available\n"
          ]
        }
      ]
    },
    {
      "cell_type": "markdown",
      "source": [
        "# Updating Dictionary"
      ],
      "metadata": {
        "id": "_rtD1cE2AmAn"
      }
    },
    {
      "cell_type": "code",
      "source": [
        "print(data)\n",
        "data[\"name\"]=\"Minny\"\n",
        "print(data)"
      ],
      "metadata": {
        "colab": {
          "base_uri": "https://localhost:8080/"
        },
        "id": "758E2sOZAqqr",
        "outputId": "73bff444-a697-483f-eb7c-62f6de5cdee2"
      },
      "execution_count": 39,
      "outputs": [
        {
          "output_type": "stream",
          "name": "stdout",
          "text": [
            "{'name': 'Sreya', 'age': 23}\n",
            "{'name': 'Minny', 'age': 23}\n"
          ]
        }
      ]
    },
    {
      "cell_type": "code",
      "source": [
        "#adding new key-value pair\n",
        "data[\"dob\"]=\"2002\"\n",
        "print(data)\n",
        "#value can string,int,dict,tuple,list\n",
        "data[\"skills\"]=['BigQuery','Python']\n",
        "print(data)\n",
        "print(data[\"skills\"][0])"
      ],
      "metadata": {
        "colab": {
          "base_uri": "https://localhost:8080/"
        },
        "id": "ZDxgxCXRA2Np",
        "outputId": "bb0e9b48-741a-4ada-db2a-333f76dc1b0f"
      },
      "execution_count": 40,
      "outputs": [
        {
          "output_type": "stream",
          "name": "stdout",
          "text": [
            "{'name': 'Minny', 'age': 23, 'dob': '2002'}\n",
            "{'name': 'Minny', 'age': 23, 'dob': '2002', 'skills': ['BigQuery', 'Python']}\n",
            "BigQuery\n"
          ]
        }
      ]
    },
    {
      "cell_type": "code",
      "source": [
        "address={\"state\":\"Telangana\",\"city\":\"Hyderabad\"}\n",
        "data.update(address)\n",
        "print(data)"
      ],
      "metadata": {
        "colab": {
          "base_uri": "https://localhost:8080/"
        },
        "id": "PUfqXYbmBjbB",
        "outputId": "e1e99595-db56-4457-fd66-c9a223479061"
      },
      "execution_count": 41,
      "outputs": [
        {
          "output_type": "stream",
          "name": "stdout",
          "text": [
            "{'name': 'Minny', 'age': 23, 'dob': '2002', 'skills': ['BigQuery', 'Python'], 'state': 'Telangana', 'city': 'Hyderabad'}\n"
          ]
        }
      ]
    },
    {
      "cell_type": "markdown",
      "source": [
        "# citizenship check"
      ],
      "metadata": {
        "id": "II9mOno9C6hS"
      }
    },
    {
      "cell_type": "code",
      "source": [
        "print(\"name\" in data)\n",
        "print(\"name\" not in data)\n",
        "print(\"phn_no\" in data)"
      ],
      "metadata": {
        "colab": {
          "base_uri": "https://localhost:8080/"
        },
        "id": "1RTBh9KyC-9k",
        "outputId": "9c64a421-9f93-4f95-95fc-0042ddf9bd49"
      },
      "execution_count": 42,
      "outputs": [
        {
          "output_type": "stream",
          "name": "stdout",
          "text": [
            "True\n",
            "False\n",
            "False\n"
          ]
        }
      ]
    },
    {
      "cell_type": "markdown",
      "source": [
        "# deleting data"
      ],
      "metadata": {
        "id": "89g8kA7mB4zp"
      }
    },
    {
      "cell_type": "code",
      "source": [
        "#pop()\n",
        "data.pop(\"state\") #indicate the key that you want to remove\n",
        "print(data)"
      ],
      "metadata": {
        "colab": {
          "base_uri": "https://localhost:8080/"
        },
        "id": "2sNpxpicB7bW",
        "outputId": "7fe5642b-fe0a-464f-c17f-b230976e28a8"
      },
      "execution_count": 43,
      "outputs": [
        {
          "output_type": "stream",
          "name": "stdout",
          "text": [
            "{'name': 'Minny', 'age': 23, 'dob': '2002', 'skills': ['BigQuery', 'Python'], 'city': 'Hyderabad'}\n"
          ]
        }
      ]
    },
    {
      "cell_type": "code",
      "source": [
        "#popitem()\n",
        "data.popitem() #removes last item\n",
        "print(data)\n"
      ],
      "metadata": {
        "colab": {
          "base_uri": "https://localhost:8080/"
        },
        "id": "-I_2RxdgCARG",
        "outputId": "0fcb37ba-a53c-400d-a3b4-30c3f022bd75"
      },
      "execution_count": 44,
      "outputs": [
        {
          "output_type": "stream",
          "name": "stdout",
          "text": [
            "{'name': 'Minny', 'age': 23, 'dob': '2002', 'skills': ['BigQuery', 'Python']}\n"
          ]
        }
      ]
    },
    {
      "cell_type": "code",
      "source": [
        "#del\n",
        "del data[\"dob\"]\n",
        "print(data)\n",
        "#deleting a object\n",
        "del data\n"
      ],
      "metadata": {
        "colab": {
          "base_uri": "https://localhost:8080/"
        },
        "id": "9piXKxNLDVX4",
        "outputId": "39b72bef-e985-499f-96a2-463f1a0dbae3"
      },
      "execution_count": 45,
      "outputs": [
        {
          "output_type": "stream",
          "name": "stdout",
          "text": [
            "{'name': 'Minny', 'age': 23, 'skills': ['BigQuery', 'Python']}\n"
          ]
        }
      ]
    },
    {
      "cell_type": "code",
      "source": [
        "#print(data) #NameError : name 'data' is not defined"
      ],
      "metadata": {
        "id": "HVaPjlu3DqK1"
      },
      "execution_count": 47,
      "outputs": []
    },
    {
      "cell_type": "markdown",
      "source": [
        "# Iteration in a Dictionary"
      ],
      "metadata": {
        "id": "6mL0lk5TD04F"
      }
    },
    {
      "cell_type": "code",
      "source": [
        "data={'name': 'Minny', 'age': 23, 'dob': '2002', 'skills': ['BigQuery', 'Python'], 'state': 'Telangana', 'city': 'Hyderabad'}\n",
        "print(data)"
      ],
      "metadata": {
        "colab": {
          "base_uri": "https://localhost:8080/"
        },
        "id": "7lcWcwp1D4sy",
        "outputId": "e18a98bb-67a0-4ec5-d1d6-d229084c133d"
      },
      "execution_count": 49,
      "outputs": [
        {
          "output_type": "stream",
          "name": "stdout",
          "text": [
            "{'name': 'Minny', 'age': 23, 'dob': '2002', 'skills': ['BigQuery', 'Python'], 'state': 'Telangana', 'city': 'Hyderabad'}\n"
          ]
        }
      ]
    },
    {
      "cell_type": "code",
      "source": [
        "#printing keys\n",
        "for i in data:\n",
        "  print(i,end=\" \")"
      ],
      "metadata": {
        "colab": {
          "base_uri": "https://localhost:8080/"
        },
        "id": "56c3-ok5EHdH",
        "outputId": "f1966f72-06a8-489f-df8d-286036bfc74d"
      },
      "execution_count": 50,
      "outputs": [
        {
          "output_type": "stream",
          "name": "stdout",
          "text": [
            "name age dob skills state city "
          ]
        }
      ]
    },
    {
      "cell_type": "code",
      "source": [
        "#printing value\n",
        "for i in data:\n",
        "  print(data[i],end=\" \")"
      ],
      "metadata": {
        "colab": {
          "base_uri": "https://localhost:8080/"
        },
        "id": "CzA6e3u4EQzB",
        "outputId": "47a4eb93-772b-4452-c1bd-4d35d07ac394"
      },
      "execution_count": 51,
      "outputs": [
        {
          "output_type": "stream",
          "name": "stdout",
          "text": [
            "Minny 23 2002 ['BigQuery', 'Python'] Telangana Hyderabad "
          ]
        }
      ]
    },
    {
      "cell_type": "code",
      "source": [
        "#printing key,values\n",
        "for i in data:\n",
        "  print(i,data[i])"
      ],
      "metadata": {
        "colab": {
          "base_uri": "https://localhost:8080/"
        },
        "id": "0sExAjVyEn5g",
        "outputId": "34adb5cc-b58e-4d76-deaf-a55b13511914"
      },
      "execution_count": 54,
      "outputs": [
        {
          "output_type": "stream",
          "name": "stdout",
          "text": [
            "name Minny\n",
            "age 23\n",
            "dob 2002\n",
            "skills ['BigQuery', 'Python']\n",
            "state Telangana\n",
            "city Hyderabad\n"
          ]
        }
      ]
    },
    {
      "cell_type": "code",
      "source": [
        "#printing key,values using items()\n",
        "for key,value in data.items():\n",
        "  print(key,value)"
      ],
      "metadata": {
        "colab": {
          "base_uri": "https://localhost:8080/"
        },
        "id": "XA1XKusYEoiO",
        "outputId": "bc7c0406-6c26-4929-9dff-58f259575946"
      },
      "execution_count": 53,
      "outputs": [
        {
          "output_type": "stream",
          "name": "stdout",
          "text": [
            "name Minny\n",
            "age 23\n",
            "dob 2002\n",
            "skills ['BigQuery', 'Python']\n",
            "state Telangana\n",
            "city Hyderabad\n"
          ]
        }
      ]
    },
    {
      "cell_type": "markdown",
      "source": [
        "Other Dictionary methods"
      ],
      "metadata": {
        "id": "Mle7kX1OFK07"
      }
    },
    {
      "cell_type": "code",
      "source": [
        "#keys\n",
        "print(data.keys())\n",
        "#values\n",
        "print(data.values())\n",
        "#items\n",
        "print(data.items())"
      ],
      "metadata": {
        "colab": {
          "base_uri": "https://localhost:8080/"
        },
        "id": "UrgCiUeSFNzC",
        "outputId": "8cac90d3-b309-47d7-b862-551e443eaa80"
      },
      "execution_count": 55,
      "outputs": [
        {
          "output_type": "stream",
          "name": "stdout",
          "text": [
            "dict_keys(['name', 'age', 'dob', 'skills', 'state', 'city'])\n",
            "dict_values(['Minny', 23, '2002', ['BigQuery', 'Python'], 'Telangana', 'Hyderabad'])\n",
            "dict_items([('name', 'Minny'), ('age', 23), ('dob', '2002'), ('skills', ['BigQuery', 'Python']), ('state', 'Telangana'), ('city', 'Hyderabad')])\n"
          ]
        }
      ]
    },
    {
      "cell_type": "code",
      "source": [
        "#example: To find frequency of the characters in a string\n",
        "name=\"Sreya Kukutapu\"\n",
        "frequency={}\n",
        "for i in name:\n",
        "  if i in frequency:\n",
        "    frequency[i]+=1\n",
        "  else:\n",
        "    frequency[i]=1\n",
        "print(frequency)"
      ],
      "metadata": {
        "colab": {
          "base_uri": "https://localhost:8080/"
        },
        "id": "jmrMyYlgFwrA",
        "outputId": "44bfc90b-9f09-45f5-af6b-4c7ba1d0c6bf"
      },
      "execution_count": 57,
      "outputs": [
        {
          "output_type": "stream",
          "name": "stdout",
          "text": [
            "{'S': 1, 'r': 1, 'e': 1, 'y': 1, 'a': 2, ' ': 1, 'K': 1, 'u': 3, 'k': 1, 't': 1, 'p': 1}\n"
          ]
        }
      ]
    }
  ]
}